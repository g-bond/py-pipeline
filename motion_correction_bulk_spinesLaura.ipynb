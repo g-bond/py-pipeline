{
 "cells": [
  {
   "cell_type": "code",
   "execution_count": 2,
   "id": "6908eb79-5c77-493c-8566-6d8a95aa12db",
   "metadata": {},
   "outputs": [
    {
     "name": "stdout",
     "output_type": "stream",
     "text": [
      "['/mnt/md0/BRUKER/TSeries-12172024-1304-001', '/mnt/md0/BRUKER/TSeries-12172024-1304-002', '/mnt/md0/BRUKER/TSeries-12172024-1304-003', '/mnt/md0/BRUKER/TSeries-12172024-1304-004', '/mnt/md0/BRUKER/TSeries-12172024-1304-005', '/mnt/md0/BRUKER/TSeries-12172024-1304-006', '/mnt/md0/BRUKER/TSeries-12172024-1304-007', '/mnt/md0/BRUKER/TSeries-12172024-1304-008', '/mnt/md0/BRUKER/TSeries-12172024-1304-009', '/mnt/md0/BRUKER/TSeries-12172024-1304-010', '/mnt/md0/BRUKER/TSeries-12172024-1304-011', '/mnt/md0/BRUKER/TSeries-12172024-1304-012', '/mnt/md0/BRUKER/TSeries-12172024-1304-013', '/mnt/md0/BRUKER/TSeries-12172024-1304-014', '/mnt/md0/BRUKER/TSeries-12172024-1304-015', '/mnt/md0/BRUKER/TSeries-12172024-1304-016', '/mnt/md0/BRUKER/TSeries-12172024-1304-017', '/mnt/md0/BRUKER/TSeries-12172024-1304-018', '/mnt/md0/BRUKER/TSeries-12172024-1304-019', '/mnt/md0/BRUKER/TSeries-12172024-1304-020', '/mnt/md0/BRUKER/TSeries-12172024-1304-021', '/mnt/md0/BRUKER/TSeries-12172024-1304-022', '/mnt/md0/BRUKER/TSeries-12172024-1304-023', '/mnt/md0/BRUKER/TSeries-12172024-1304-024', '/mnt/md0/BRUKER/TSeries-12172024-1304-025', '/mnt/md0/BRUKER/TSeries-12172024-1304-026', '/mnt/md0/BRUKER/TSeries-12172024-1304-027', '/mnt/md0/BRUKER/TSeries-12172024-1304-028', '/mnt/md0/BRUKER/TSeries-12172024-1304-029', '/mnt/md0/BRUKER/TSeries-12182024-1024-002', '/mnt/md0/BRUKER/TSeries-12182024-1024-003', '/mnt/md0/BRUKER/TSeries-12182024-1024-004', '/mnt/md0/BRUKER/TSeries-12182024-1024-005', '/mnt/md0/BRUKER/TSeries-12182024-1024-006', '/mnt/md0/BRUKER/TSeries-12182024-1024-007', '/mnt/md0/BRUKER/TSeries-12182024-1024-008', '/mnt/md0/BRUKER/TSeries-12182024-1024-009', '/mnt/md0/BRUKER/TSeries-12182024-1024-010', '/mnt/md0/BRUKER/TSeries-12182024-1024-011', '/mnt/md0/BRUKER/TSeries-12182024-1024-012', '/mnt/md0/BRUKER/TSeries-12182024-1024-013', '/mnt/md0/BRUKER/TSeries-12182024-1024-014', '/mnt/md0/BRUKER/TSeries-12182024-1024-015', '/mnt/md0/BRUKER/TSeries-12182024-1024-016', '/mnt/md0/BRUKER/TSeries-12182024-1024-017', '/mnt/md0/BRUKER/TSeries-12182024-1024-018', '/mnt/md0/BRUKER/TSeries-12182024-1024-019', '/mnt/md0/BRUKER/TSeries-12182024-1024-020', '/mnt/md0/BRUKER/TSeries-12182024-1024-021', '/mnt/md0/BRUKER/TSeries-12182024-1024-022', '/mnt/md0/BRUKER/TSeries-12182024-1024-023', '/mnt/md0/BRUKER/TSeries-12182024-1024-024', '/mnt/md0/BRUKER/TSeries-12182024-1024-025', '/mnt/md0/BRUKER/TSeries-12182024-1024-026', '/mnt/md0/BRUKER/TSeries-12182024-1024-027', '/mnt/md0/BRUKER/TSeries-12182024-1024-028', '/mnt/md0/BRUKER/TSeries-12182024-1024-029', '/mnt/md0/BRUKER/TSeries-12182024-1024-030', '/mnt/md0/BRUKER/TSeries-12182024-1024-031']\n"
     ]
    }
   ],
   "source": [
    "# When not doing Notebook Job\n",
    "#if not 'sessions_to_rcz\n",
    "#    sessions_to_run = ['Cs/SCANIMAGE/test_data_short']\n",
    "#sessions_to_run = ['/home/schollab/Documents/SCANIMAGE/PTENKO_04_13_2023_fov1/acq_16']\n",
    "\n",
    "\n",
    "import glob\n",
    "sessions_017 = sorted(glob.glob('/mnt/md0/BRUKER/TSeries-12172024*'))\n",
    "sessions_018 = sorted(glob.glob('/mnt/md0/BRUKER/TSeries-12182024*'))\n",
    "sessions_to_run = sessions_017 + sessions_018\n",
    "print(sessions_to_run)"
   ]
  },
  {
   "cell_type": "code",
   "execution_count": 3,
   "id": "ff95f1f5-a2a2-44ee-8446-0ead1b47a7dd",
   "metadata": {},
   "outputs": [
    {
     "name": "stderr",
     "output_type": "stream",
     "text": [
      "/tmp/ipykernel_58560/3647430063.py:26: DeprecationWarning: `magic(...)` is deprecated since IPython 0.13 (warning added in 8.1), use run_line_magic(magic_name, parameter_s).\n",
      "  get_ipython().magic('load_ext autoreload')\n",
      "/tmp/ipykernel_58560/3647430063.py:27: DeprecationWarning: `magic(...)` is deprecated since IPython 0.13 (warning added in 8.1), use run_line_magic(magic_name, parameter_s).\n",
      "  get_ipython().magic('autoreload 2')\n",
      "2024-12-19 14:17:06.464344: E external/local_xla/xla/stream_executor/cuda/cuda_dnn.cc:9261] Unable to register cuDNN factory: Attempting to register factory for plugin cuDNN when one has already been registered\n",
      "2024-12-19 14:17:06.464370: E external/local_xla/xla/stream_executor/cuda/cuda_fft.cc:607] Unable to register cuFFT factory: Attempting to register factory for plugin cuFFT when one has already been registered\n",
      "2024-12-19 14:17:06.465084: E external/local_xla/xla/stream_executor/cuda/cuda_blas.cc:1515] Unable to register cuBLAS factory: Attempting to register factory for plugin cuBLAS when one has already been registered\n"
     ]
    }
   ],
   "source": [
    "# imports and definitions. Execution below.\n",
    "import os\n",
    "import os.path\n",
    "import cv2\n",
    "import math\n",
    "import h5py\n",
    "import glob\n",
    "import logging\n",
    "import matplotlib.pyplot as plt\n",
    "import numpy as np\n",
    "from datetime import datetime\n",
    "\n",
    "\n",
    "import code\n",
    "from time import process_time\n",
    "    \n",
    "try:\n",
    "    cv2.setNumThreads(0)\n",
    "except:\n",
    "    pass\n",
    "\n",
    "try:\n",
    "    if __IPYTHON__:\n",
    "        # this is used for debugging purposes only. allows to reload classes\n",
    "        # when changed\n",
    "        get_ipython().magic('load_ext autoreload')\n",
    "        get_ipython().magic('autoreload 2')\n",
    "except NameError:\n",
    "    pass\n",
    "\n",
    "\n",
    "import caiman as cm\n",
    "from caiman.motion_correction import MotionCorrect\n",
    "from caiman.source_extraction.cnmf import cnmf as cnmf\n",
    "from caiman.source_extraction.cnmf import params as params\n",
    "from caiman.utils.utils import download_demo\n",
    "from caiman.summary_images import local_correlations_movie_offline\n",
    "\n",
    "import tifffile\n",
    "\n",
    "global mc\n",
    "\n",
    "def register_one_session(parent_dir, mc_dict, keep_memmap, save_sample, sample_name):\n",
    "    #pass  # For compatibility between running under Spyder and the CLI\n",
    "    fnames = sorted(glob.glob(os.path.join(parent_dir, \"*registered.h5\")))\n",
    "    #fnames = sorted(glob.glob(os.path.join(parent_dir, '*tif')))\n",
    "\n",
    "    mc_dict['fnames'] = fnames\n",
    "    mc_dict['upsample_factor_grid'] = 8 # Attempting to fix subpixel registration issue\n",
    "\n",
    "    opts = params.CNMFParams(params_dict=mc_dict)\n",
    "\n",
    "# %% start a cluster for parallel processing\n",
    "    c, dview, n_processes = cm.cluster.setup_cluster(\n",
    "        backend='local', n_processes=None, single_thread=False)\n",
    "    mc = MotionCorrect(fnames, dview=dview, **opts.get_group('motion'))\n",
    "\n",
    "    mc.motion_correct(save_movie=True)\n",
    "\n",
    " # Storing results in HDF5 for DeepInterpolation\n",
    "    if mc_dict['pw_rigid']:\n",
    "        numframes = len(mc.x_shifts_els)\n",
    "    else:\n",
    "        numframes = len(mc.shifts_rig)\n",
    "\n",
    "    #os.replace(fnames[0], parent_dir + \"//registered.h5\")\n",
    "    #datafile = h5py.File(parent_dir + '//registered.h5', 'w')\n",
    "    os.replace(fnames[0], os.path.join(parent_dir, 'registered.h5'))\n",
    "    datafile = h5py.File(os.path.join(parent_dir, 'registered.h5'), 'w')\n",
    "    datafile.create_dataset(\"mov\", (numframes, 512, 512))\n",
    "    #datafile.create_dataset(\"mov\", (numframes, 128, 128))\n",
    "    #code.interact(local=dict(globals(), **locals())) \n",
    "    \n",
    "    # Behavior changed since last stable\n",
    "    #fnames_new = glob.glob(parent_dir + \"//*.mmap\")\n",
    "    fnames_new = mc.mmap_file\n",
    "    frames_written = 0\n",
    "    \n",
    "    for i in range(0, math.floor(numframes / 1000)):\n",
    "        mov = cm.load(fnames_new[0])\n",
    "        temp_data = np.array(mov[frames_written:frames_written + 1000, :, :])\n",
    "        datafile[\"mov\"][frames_written:frames_written + 1000, :, :] = temp_data\n",
    "        frames_written += 1000\n",
    "        del mov\n",
    "    \n",
    "    # handling last point\n",
    "    if numframes > frames_written:\n",
    "        mov = cm.load(fnames_new[0])\n",
    "        temp_data = np.array(mov[frames_written:mov.shape[0], :, :])\n",
    "        datafile[\"mov\"][frames_written:mov.shape[0], :, :] = temp_data\n",
    "        del mov\n",
    "        \n",
    "    del temp_data        \n",
    "    cm.stop_server(dview=dview)\n",
    "\n",
    "    if not keep_memmap:\n",
    "        for i in range(0, len(fnames_new)):\n",
    "            os.remove(fnames_new[i])\n",
    "\n",
    "    if save_sample:\n",
    "        if not os.path.isdir(os.path.join(parent_dir, \"samples\")):\n",
    "            os.makedirs(os.path.join(parent_dir, \"samples\"))\n",
    "        #with tifffile.TiffWriter(parent_dir+\"//samples//\"+sample_name, bigtiff=False, imagej=False) as tif:\n",
    "        with tifffile.TiffWriter(os.path.join(parent_dir, 'samples', sample_name), bigtiff=False, imagej=False) as tif:\n",
    "            for i in range(0, min(2000, numframes)):\n",
    "                curfr = datafile[\"mov\"][i,:,:].astype(np.int16)\n",
    "                tif.save(curfr)\n",
    "                \n",
    "    datafile.close()\n"
   ]
  },
  {
   "cell_type": "code",
   "execution_count": 4,
   "id": "f5895809-d37e-43e4-8634-1774ddc360f0",
   "metadata": {},
   "outputs": [],
   "source": [
    "\n",
    "def stacks_to_hdf5(parent_dir, delete_tiffs=False):    \n",
    "    fnames = sorted(glob.glob(os.path.join(parent_dir, \"*.tif\")))\n",
    "    assert len(fnames) > 0, f\"No tif stacks found in {parent_dir}\"\n",
    "    \n",
    "    mov = tifffile.imread(fnames[0])\n",
    "    stack_size = mov.shape[0]\n",
    "    #code.interact(local=dict(globals(), **locals())) \n",
    "    first_30 = np.flip(mov[0:30, :, :], 0)\n",
    "    \n",
    "    mov = cm.load(fnames[len(fnames) - 1])\n",
    "    if mov.shape[0] < 30:\n",
    "        # Get all shapes from last, and the remaining from second to last.\n",
    "        last_30 = np.flip(mov[:, :, :], 0)\n",
    "        needed = 30 - mov.shape[0]\n",
    "        mov = cm.load(fnames[len(fnames) - 2])\n",
    "        remainder = np.flip(mov[mov.shape[0] - needed:mov.shape[0],:,:])\n",
    "        last_30 = np.append(last_30, remainder, axis=0)\n",
    "    else:\n",
    "        last_30 = np.flip(mov[mov.shape[0] - 30:, :, :], 0)\n",
    "    \n",
    "    num_frames = 60 + ((len(fnames) - 1) * stack_size) + mov.shape[0]\n",
    "    \n",
    "    f_out = h5py.File(os.path.join(parent_dir, \"unregistered.h5\"), \"w\")\n",
    "    f_out.create_dataset(\"mov\", (num_frames, mov.shape[1], mov.shape[2]))\n",
    "    \n",
    "    f_out[\"mov\"][0:30,:,:] = first_30\n",
    "    frames_written = 30\n",
    "    \n",
    "    for i in range(0, len(fnames)):\n",
    "        mov = tifffile.imread(fnames[i])\n",
    "        #code.interact(local=dict(globals(), **locals()))\n",
    "        f_out[\"mov\"][frames_written:frames_written+mov.shape[0], :, :] = np.array(mov)\n",
    "        frames_written += mov.shape[0]\n",
    "        del mov\n",
    "        if delete_tiffs:\n",
    "            os.remove(fnames[i])\n",
    "        \n",
    "        # Last 30\n",
    "    f_out[\"mov\"][frames_written:frames_written+30, :, :] = last_30\n",
    "    f_out.close()\n",
    "\n",
    "\n",
    "def register_bulk(sessions_to_run, sparse=False):\n",
    "    \"\"\"\n",
    "    Function to run CaImAn's motion correction on prepared .h5 stack.\n",
    "\n",
    "    Parameters:\n",
    "        sessions_to_run (list): List of strings for each file directory to find data in.\n",
    "        sparse (bool): True runs piecewise-nonrigid registration (NoRMCorre) after rigid registration.\n",
    "                       False runs only rigid.\n",
    "    Returns:\n",
    "        Nothing. Does disk operations, creates new .h5 for registered calcium movie.\n",
    "    \"\"\"\n",
    "    \n",
    "    ### dataset dependent parameters\n",
    "    fr = 30             # imaging rate in frames per second\n",
    "    decay_time = 1      # Recommended by Ben on March 20th\n",
    "    \n",
    "    ### Based on Ben's recommendations\n",
    "    dxy = (1.0, 1.0)\n",
    "    max_shift_um = (32, 32)\n",
    "    patch_motion_um = (64., 64.)\n",
    "    max_shifts = [int(a/b) for a, b in zip(max_shift_um, dxy)]\n",
    "    strides = tuple([int(a/b) for a, b in zip(patch_motion_um, dxy)])\n",
    "    overlaps = (32, 32)\n",
    "    max_deviation_rigid = 3\n",
    "    #code.interact(local=locals())\n",
    "\n",
    "    mc_dict = {\n",
    "        'fr': fr,\n",
    "        'decay_time': decay_time,\n",
    "        'dxy': dxy,\n",
    "        'pw_rigid': False,\n",
    "        'max_shifts': max_shifts,\n",
    "        'strides': strides,\n",
    "        'overlaps': overlaps,\n",
    "        'max_deviation_rigid': max_deviation_rigid,\n",
    "        'border_nan': 'copy',\n",
    "        'nonneg_movie': False,\n",
    "        'use_cuda': False,\n",
    "        'niter_rig': 5\n",
    "    }\n",
    "\n",
    "    time_deltas = []\n",
    "    for i in range(0,len(sessions_to_run)):\n",
    "        print(sessions_to_run[i])\n",
    "        t_start = datetime.now()\n",
    "        #stacks_to_hdf5(sessions_to_run[i], delete_tiffs=True)\n",
    "        register_one_session(sessions_to_run[i], mc_dict, keep_memmap=False,save_sample=True, sample_name=\"01_rigid.tif\")\n",
    "        if sparse:\n",
    "            mc_dict['pw_rigid'] = True\n",
    "            register_one_session(sessions_to_run[i], mc_dict, keep_memmap=False, save_sample=True, sample_name=\"02_nonrigid.tif\")\n"
   ]
  },
  {
   "cell_type": "code",
   "execution_count": 5,
   "id": "31e27cc8-c248-4b93-8a39-1065932d30c6",
   "metadata": {
    "scrolled": true
   },
   "outputs": [
    {
     "name": "stderr",
     "output_type": "stream",
     "text": [
      "OME series: not an ome-tiff master file\n",
      "OME series: not an ome-tiff master file\n",
      "OME series: not an ome-tiff master file\n",
      "OME series: not an ome-tiff master file\n",
      "OME series: not an ome-tiff master file\n",
      "OME series: not an ome-tiff master file\n",
      "OME series: not an ome-tiff master file\n",
      "OME series: not an ome-tiff master file\n",
      "OME series: not an ome-tiff master file\n",
      "OME series: not an ome-tiff master file\n",
      "OME series: not an ome-tiff master file\n",
      "OME series: not an ome-tiff master file\n",
      "OME series: not an ome-tiff master file\n",
      "OME series: not an ome-tiff master file\n",
      "OME series: not an ome-tiff master file\n",
      "OME series: not an ome-tiff master file\n",
      "OME series: not an ome-tiff master file\n",
      "OME series: not an ome-tiff master file\n",
      "OME series: not an ome-tiff master file\n",
      "OME series: not an ome-tiff master file\n",
      "OME series: not an ome-tiff master file\n",
      "OME series: not an ome-tiff master file\n",
      "OME series: not an ome-tiff master file\n",
      "OME series: not an ome-tiff master file\n",
      "OME series: not an ome-tiff master file\n",
      "OME series: not an ome-tiff master file\n",
      "OME series: not an ome-tiff master file\n",
      "OME series: not an ome-tiff master file\n",
      "OME series: not an ome-tiff master file\n",
      "OME series: not an ome-tiff master file\n",
      "OME series: not an ome-tiff master file\n",
      "OME series: not an ome-tiff master file\n",
      "OME series: not an ome-tiff master file\n",
      "OME series: not an ome-tiff master file\n",
      "OME series: not an ome-tiff master file\n",
      "OME series: not an ome-tiff master file\n",
      "OME series: not an ome-tiff master file\n",
      "OME series: not an ome-tiff master file\n",
      "OME series: not an ome-tiff master file\n",
      "OME series: not an ome-tiff master file\n",
      "OME series: not an ome-tiff master file\n",
      "OME series: not an ome-tiff master file\n",
      "OME series: not an ome-tiff master file\n",
      "OME series: not an ome-tiff master file\n",
      "OME series: not an ome-tiff master file\n",
      "OME series: not an ome-tiff master file\n",
      "OME series: not an ome-tiff master file\n",
      "OME series: not an ome-tiff master file\n",
      "OME series: not an ome-tiff master file\n",
      "OME series: not an ome-tiff master file\n",
      "OME series: not an ome-tiff master file\n",
      "OME series: not an ome-tiff master file\n",
      "OME series: not an ome-tiff master file\n",
      "OME series: not an ome-tiff master file\n",
      "OME series: not an ome-tiff master file\n",
      "OME series: not an ome-tiff master file\n",
      "OME series: not an ome-tiff master file\n",
      "OME series: not an ome-tiff master file\n",
      "OME series: not an ome-tiff master file\n",
      "OME series: not an ome-tiff master file\n",
      "OME series: not an ome-tiff master file\n",
      "OME series: not an ome-tiff master file\n",
      "OME series: not an ome-tiff master file\n",
      "OME series: not an ome-tiff master file\n",
      "OME series: not an ome-tiff master file\n",
      "OME series: not an ome-tiff master file\n",
      "OME series: not an ome-tiff master file\n",
      "OME series: not an ome-tiff master file\n",
      "OME series: not an ome-tiff master file\n",
      "OME series: not an ome-tiff master file\n",
      "OME series: not an ome-tiff master file\n",
      "OME series: not an ome-tiff master file\n",
      "OME series: not an ome-tiff master file\n",
      "OME series: not an ome-tiff master file\n",
      "OME series: not an ome-tiff master file\n",
      "OME series: not an ome-tiff master file\n",
      "OME series: not an ome-tiff master file\n",
      "OME series: not an ome-tiff master file\n",
      "OME series: not an ome-tiff master file\n",
      "OME series: not an ome-tiff master file\n",
      "OME series: not an ome-tiff master file\n",
      "OME series: not an ome-tiff master file\n",
      "OME series: not an ome-tiff master file\n",
      "OME series: not an ome-tiff master file\n",
      "OME series: not an ome-tiff master file\n",
      "OME series: not an ome-tiff master file\n",
      "OME series: not an ome-tiff master file\n",
      "OME series: not an ome-tiff master file\n",
      "OME series: not an ome-tiff master file\n",
      "OME series: not an ome-tiff master file\n",
      "OME series: not an ome-tiff master file\n",
      "OME series: not an ome-tiff master file\n",
      "OME series: not an ome-tiff master file\n",
      "OME series: not an ome-tiff master file\n",
      "OME series: not an ome-tiff master file\n",
      "OME series: not an ome-tiff master file\n",
      "OME series: not an ome-tiff master file\n",
      "OME series: not an ome-tiff master file\n",
      "OME series: not an ome-tiff master file\n",
      "OME series: not an ome-tiff master file\n",
      "OME series: not an ome-tiff master file\n",
      "OME series: not an ome-tiff master file\n",
      "OME series: not an ome-tiff master file\n",
      "OME series: not an ome-tiff master file\n",
      "OME series: not an ome-tiff master file\n",
      "OME series: not an ome-tiff master file\n",
      "OME series: not an ome-tiff master file\n",
      "OME series: not an ome-tiff master file\n",
      "OME series: not an ome-tiff master file\n",
      "OME series: not an ome-tiff master file\n",
      "OME series: not an ome-tiff master file\n",
      "OME series: not an ome-tiff master file\n",
      "OME series: not an ome-tiff master file\n",
      "OME series: not an ome-tiff master file\n",
      "OME series: not an ome-tiff master file\n",
      "OME series: not an ome-tiff master file\n",
      "OME series: not an ome-tiff master file\n",
      "OME series: not an ome-tiff master file\n",
      "OME series: not an ome-tiff master file\n",
      "OME series: not an ome-tiff master file\n",
      "OME series: not an ome-tiff master file\n",
      "OME series: not an ome-tiff master file\n",
      "OME series: not an ome-tiff master file\n",
      "OME series: not an ome-tiff master file\n",
      "OME series: not an ome-tiff master file\n",
      "OME series: not an ome-tiff master file\n",
      "OME series: not an ome-tiff master file\n",
      "OME series: not an ome-tiff master file\n",
      "OME series: not an ome-tiff master file\n",
      "OME series: not an ome-tiff master file\n",
      "OME series: not an ome-tiff master file\n",
      "OME series: not an ome-tiff master file\n",
      "OME series: not an ome-tiff master file\n",
      "OME series: not an ome-tiff master file\n",
      "OME series: not an ome-tiff master file\n",
      "OME series: not an ome-tiff master file\n",
      "OME series: not an ome-tiff master file\n",
      "OME series: not an ome-tiff master file\n",
      "OME series: not an ome-tiff master file\n",
      "OME series: not an ome-tiff master file\n",
      "OME series: not an ome-tiff master file\n",
      "OME series: not an ome-tiff master file\n",
      "OME series: not an ome-tiff master file\n",
      "OME series: not an ome-tiff master file\n",
      "OME series: not an ome-tiff master file\n",
      "OME series: not an ome-tiff master file\n",
      "OME series: not an ome-tiff master file\n",
      "OME series: not an ome-tiff master file\n",
      "OME series: not an ome-tiff master file\n",
      "OME series: not an ome-tiff master file\n",
      "OME series: not an ome-tiff master file\n",
      "OME series: not an ome-tiff master file\n",
      "OME series: not an ome-tiff master file\n",
      "OME series: not an ome-tiff master file\n",
      "OME series: not an ome-tiff master file\n",
      "OME series: not an ome-tiff master file\n",
      "OME series: not an ome-tiff master file\n",
      "OME series: not an ome-tiff master file\n",
      "OME series: not an ome-tiff master file\n",
      "OME series: not an ome-tiff master file\n",
      "OME series: not an ome-tiff master file\n",
      "OME series: not an ome-tiff master file\n",
      "OME series: not an ome-tiff master file\n",
      "OME series: not an ome-tiff master file\n",
      "OME series: not an ome-tiff master file\n",
      "OME series: not an ome-tiff master file\n",
      "OME series: not an ome-tiff master file\n",
      "OME series: not an ome-tiff master file\n",
      "OME series: not an ome-tiff master file\n",
      "OME series: not an ome-tiff master file\n",
      "OME series: not an ome-tiff master file\n",
      "OME series: not an ome-tiff master file\n",
      "OME series: not an ome-tiff master file\n",
      "OME series: not an ome-tiff master file\n",
      "OME series: not an ome-tiff master file\n",
      "OME series: not an ome-tiff master file\n",
      "OME series: not an ome-tiff master file\n",
      "OME series: not an ome-tiff master file\n",
      "OME series: not an ome-tiff master file\n",
      "OME series: not an ome-tiff master file\n",
      "OME series: not an ome-tiff master file\n",
      "OME series: not an ome-tiff master file\n",
      "OME series: not an ome-tiff master file\n",
      "OME series: not an ome-tiff master file\n",
      "OME series: not an ome-tiff master file\n",
      "OME series: not an ome-tiff master file\n",
      "OME series: not an ome-tiff master file\n",
      "OME series: not an ome-tiff master file\n",
      "OME series: not an ome-tiff master file\n",
      "OME series: not an ome-tiff master file\n",
      "OME series: not an ome-tiff master file\n",
      "OME series: not an ome-tiff master file\n",
      "OME series: not an ome-tiff master file\n",
      "OME series: not an ome-tiff master file\n",
      "OME series: not an ome-tiff master file\n",
      "OME series: not an ome-tiff master file\n",
      "OME series: not an ome-tiff master file\n",
      "OME series: not an ome-tiff master file\n",
      "OME series: not an ome-tiff master file\n",
      "OME series: not an ome-tiff master file\n",
      "OME series: not an ome-tiff master file\n",
      "OME series: not an ome-tiff master file\n",
      "OME series: not an ome-tiff master file\n",
      "OME series: not an ome-tiff master file\n",
      "OME series: not an ome-tiff master file\n",
      "OME series: not an ome-tiff master file\n",
      "OME series: not an ome-tiff master file\n",
      "OME series: not an ome-tiff master file\n",
      "OME series: not an ome-tiff master file\n",
      "OME series: not an ome-tiff master file\n",
      "OME series: not an ome-tiff master file\n",
      "OME series: not an ome-tiff master file\n",
      "OME series: not an ome-tiff master file\n",
      "OME series: not an ome-tiff master file\n",
      "OME series: not an ome-tiff master file\n",
      "OME series: not an ome-tiff master file\n",
      "OME series: not an ome-tiff master file\n",
      "OME series: not an ome-tiff master file\n",
      "OME series: not an ome-tiff master file\n",
      "OME series: not an ome-tiff master file\n",
      "OME series: not an ome-tiff master file\n",
      "OME series: not an ome-tiff master file\n",
      "OME series: not an ome-tiff master file\n",
      "OME series: not an ome-tiff master file\n",
      "OME series: not an ome-tiff master file\n",
      "OME series: not an ome-tiff master file\n",
      "OME series: not an ome-tiff master file\n",
      "OME series: not an ome-tiff master file\n",
      "OME series: not an ome-tiff master file\n",
      "OME series: not an ome-tiff master file\n",
      "OME series: not an ome-tiff master file\n",
      "OME series: not an ome-tiff master file\n",
      "OME series: not an ome-tiff master file\n",
      "OME series: not an ome-tiff master file\n",
      "OME series: not an ome-tiff master file\n",
      "OME series: not an ome-tiff master file\n",
      "OME series: not an ome-tiff master file\n",
      "OME series: not an ome-tiff master file\n",
      "OME series: not an ome-tiff master file\n",
      "OME series: not an ome-tiff master file\n",
      "OME series: not an ome-tiff master file\n",
      "OME series: not an ome-tiff master file\n",
      "OME series: not an ome-tiff master file\n",
      "OME series: not an ome-tiff master file\n",
      "OME series: not an ome-tiff master file\n",
      "OME series: not an ome-tiff master file\n",
      "OME series: not an ome-tiff master file\n",
      "OME series: not an ome-tiff master file\n",
      "OME series: not an ome-tiff master file\n",
      "OME series: not an ome-tiff master file\n",
      "OME series: not an ome-tiff master file\n",
      "OME series: not an ome-tiff master file\n",
      "OME series: not an ome-tiff master file\n",
      "OME series: not an ome-tiff master file\n",
      "OME series: not an ome-tiff master file\n",
      "OME series: not an ome-tiff master file\n",
      "OME series: not an ome-tiff master file\n",
      "OME series: not an ome-tiff master file\n",
      "OME series: not an ome-tiff master file\n",
      "OME series: not an ome-tiff master file\n",
      "OME series: not an ome-tiff master file\n",
      "OME series: not an ome-tiff master file\n",
      "OME series: not an ome-tiff master file\n",
      "OME series: not an ome-tiff master file\n",
      "OME series: not an ome-tiff master file\n",
      "OME series: not an ome-tiff master file\n",
      "OME series: not an ome-tiff master file\n",
      "OME series: not an ome-tiff master file\n",
      "OME series: not an ome-tiff master file\n",
      "OME series: not an ome-tiff master file\n",
      "OME series: not an ome-tiff master file\n",
      "OME series: not an ome-tiff master file\n",
      "OME series: not an ome-tiff master file\n",
      "OME series: not an ome-tiff master file\n",
      "OME series: not an ome-tiff master file\n",
      "OME series: not an ome-tiff master file\n",
      "OME series: not an ome-tiff master file\n",
      "OME series: not an ome-tiff master file\n",
      "OME series: not an ome-tiff master file\n",
      "OME series: not an ome-tiff master file\n",
      "OME series: not an ome-tiff master file\n",
      "OME series: not an ome-tiff master file\n",
      "OME series: not an ome-tiff master file\n",
      "OME series: not an ome-tiff master file\n",
      "OME series: not an ome-tiff master file\n",
      "OME series: not an ome-tiff master file\n",
      "OME series: not an ome-tiff master file\n",
      "OME series: not an ome-tiff master file\n",
      "OME series: not an ome-tiff master file\n",
      "OME series: not an ome-tiff master file\n",
      "OME series: not an ome-tiff master file\n",
      "OME series: not an ome-tiff master file\n",
      "OME series: not an ome-tiff master file\n",
      "OME series: not an ome-tiff master file\n",
      "OME series: not an ome-tiff master file\n",
      "OME series: not an ome-tiff master file\n",
      "OME series: not an ome-tiff master file\n",
      "OME series: not an ome-tiff master file\n",
      "OME series: not an ome-tiff master file\n",
      "OME series: not an ome-tiff master file\n",
      "OME series: not an ome-tiff master file\n",
      "OME series: not an ome-tiff master file\n",
      "OME series: not an ome-tiff master file\n",
      "OME series: not an ome-tiff master file\n",
      "OME series: not an ome-tiff master file\n",
      "OME series: not an ome-tiff master file\n",
      "OME series: not an ome-tiff master file\n",
      "OME series: not an ome-tiff master file\n",
      "OME series: not an ome-tiff master file\n",
      "OME series: not an ome-tiff master file\n",
      "OME series: not an ome-tiff master file\n",
      "OME series: not an ome-tiff master file\n",
      "OME series: not an ome-tiff master file\n",
      "OME series: not an ome-tiff master file\n",
      "OME series: not an ome-tiff master file\n",
      "OME series: not an ome-tiff master file\n",
      "OME series: not an ome-tiff master file\n",
      "OME series: not an ome-tiff master file\n",
      "OME series: not an ome-tiff master file\n",
      "OME series: not an ome-tiff master file\n",
      "OME series: not an ome-tiff master file\n",
      "OME series: not an ome-tiff master file\n",
      "OME series: not an ome-tiff master file\n",
      "OME series: not an ome-tiff master file\n",
      "OME series: not an ome-tiff master file\n",
      "OME series: not an ome-tiff master file\n",
      "OME series: not an ome-tiff master file\n",
      "OME series: not an ome-tiff master file\n",
      "OME series: not an ome-tiff master file\n",
      "OME series: not an ome-tiff master file\n",
      "OME series: not an ome-tiff master file\n",
      "OME series: not an ome-tiff master file\n",
      "OME series: not an ome-tiff master file\n",
      "OME series: not an ome-tiff master file\n",
      "OME series: not an ome-tiff master file\n",
      "OME series: not an ome-tiff master file\n",
      "OME series: not an ome-tiff master file\n",
      "OME series: not an ome-tiff master file\n",
      "OME series: not an ome-tiff master file\n",
      "OME series: not an ome-tiff master file\n",
      "OME series: not an ome-tiff master file\n",
      "OME series: not an ome-tiff master file\n",
      "OME series: not an ome-tiff master file\n",
      "OME series: not an ome-tiff master file\n",
      "OME series: not an ome-tiff master file\n",
      "OME series: not an ome-tiff master file\n",
      "OME series: not an ome-tiff master file\n",
      "OME series: not an ome-tiff master file\n",
      "OME series: not an ome-tiff master file\n",
      "OME series: not an ome-tiff master file\n",
      "OME series: not an ome-tiff master file\n",
      "OME series: not an ome-tiff master file\n",
      "OME series: not an ome-tiff master file\n",
      "OME series: not an ome-tiff master file\n",
      "OME series: not an ome-tiff master file\n",
      "OME series: not an ome-tiff master file\n",
      "OME series: not an ome-tiff master file\n",
      "OME series: not an ome-tiff master file\n",
      "OME series: not an ome-tiff master file\n",
      "OME series: not an ome-tiff master file\n",
      "OME series: not an ome-tiff master file\n",
      "OME series: not an ome-tiff master file\n",
      "OME series: not an ome-tiff master file\n",
      "OME series: not an ome-tiff master file\n",
      "OME series: not an ome-tiff master file\n",
      "OME series: not an ome-tiff master file\n",
      "OME series: not an ome-tiff master file\n",
      "OME series: not an ome-tiff master file\n",
      "OME series: not an ome-tiff master file\n",
      "OME series: not an ome-tiff master file\n",
      "OME series: not an ome-tiff master file\n",
      "OME series: not an ome-tiff master file\n",
      "OME series: not an ome-tiff master file\n",
      "OME series: not an ome-tiff master file\n",
      "OME series: not an ome-tiff master file\n",
      "OME series: not an ome-tiff master file\n",
      "OME series: not an ome-tiff master file\n",
      "OME series: not an ome-tiff master file\n",
      "OME series: not an ome-tiff master file\n",
      "OME series: not an ome-tiff master file\n",
      "OME series: not an ome-tiff master file\n",
      "OME series: not an ome-tiff master file\n",
      "OME series: not an ome-tiff master file\n",
      "OME series: not an ome-tiff master file\n",
      "OME series: not an ome-tiff master file\n",
      "OME series: not an ome-tiff master file\n",
      "OME series: not an ome-tiff master file\n",
      "OME series: not an ome-tiff master file\n",
      "OME series: not an ome-tiff master file\n",
      "OME series: not an ome-tiff master file\n",
      "OME series: not an ome-tiff master file\n",
      "OME series: not an ome-tiff master file\n",
      "OME series: not an ome-tiff master file\n",
      "OME series: not an ome-tiff master file\n",
      "OME series: not an ome-tiff master file\n",
      "OME series: not an ome-tiff master file\n",
      "OME series: not an ome-tiff master file\n",
      "OME series: not an ome-tiff master file\n",
      "OME series: not an ome-tiff master file\n",
      "OME series: not an ome-tiff master file\n",
      "OME series: not an ome-tiff master file\n",
      "OME series: not an ome-tiff master file\n",
      "OME series: not an ome-tiff master file\n",
      "OME series: not an ome-tiff master file\n",
      "OME series: not an ome-tiff master file\n",
      "OME series: not an ome-tiff master file\n",
      "OME series: not an ome-tiff master file\n",
      "OME series: not an ome-tiff master file\n",
      "OME series: not an ome-tiff master file\n",
      "OME series: not an ome-tiff master file\n",
      "OME series: not an ome-tiff master file\n",
      "OME series: not an ome-tiff master file\n",
      "OME series: not an ome-tiff master file\n",
      "OME series: not an ome-tiff master file\n",
      "OME series: not an ome-tiff master file\n",
      "OME series: not an ome-tiff master file\n",
      "OME series: not an ome-tiff master file\n",
      "OME series: not an ome-tiff master file\n",
      "OME series: not an ome-tiff master file\n",
      "OME series: not an ome-tiff master file\n",
      "OME series: not an ome-tiff master file\n",
      "OME series: not an ome-tiff master file\n",
      "OME series: not an ome-tiff master file\n",
      "OME series: not an ome-tiff master file\n",
      "OME series: not an ome-tiff master file\n",
      "OME series: not an ome-tiff master file\n",
      "OME series: not an ome-tiff master file\n",
      "OME series: not an ome-tiff master file\n",
      "OME series: not an ome-tiff master file\n",
      "OME series: not an ome-tiff master file\n",
      "OME series: not an ome-tiff master file\n",
      "OME series: not an ome-tiff master file\n",
      "In setting CNMFParams, non-pathed parameters were used; this is deprecated. In some future version of Caiman, allow_legacy will default to False (and eventually will be removed)\n"
     ]
    },
    {
     "name": "stdout",
     "output_type": "stream",
     "text": [
      "/mnt/md0/BRUKER/TSeries-12172024-1304-001\n"
     ]
    },
    {
     "name": "stderr",
     "output_type": "stream",
     "text": [
      "The local backend is an alias for the multiprocessing backend, and the alias may be removed in some future version of Caiman\n",
      "In setting CNMFParams, non-pathed parameters were used; this is deprecated. In some future version of Caiman, allow_legacy will default to False (and eventually will be removed)\n",
      "The local backend is an alias for the multiprocessing backend, and the alias may be removed in some future version of Caiman\n",
      "In setting CNMFParams, non-pathed parameters were used; this is deprecated. In some future version of Caiman, allow_legacy will default to False (and eventually will be removed)\n"
     ]
    },
    {
     "name": "stdout",
     "output_type": "stream",
     "text": [
      "/mnt/md0/BRUKER/TSeries-12172024-1304-002\n"
     ]
    },
    {
     "name": "stderr",
     "output_type": "stream",
     "text": [
      "The local backend is an alias for the multiprocessing backend, and the alias may be removed in some future version of Caiman\n",
      "In setting CNMFParams, non-pathed parameters were used; this is deprecated. In some future version of Caiman, allow_legacy will default to False (and eventually will be removed)\n",
      "The local backend is an alias for the multiprocessing backend, and the alias may be removed in some future version of Caiman\n",
      "Movie average is negative. Removing 1st percentile.\n",
      "Movie average is negative. Removing 1st percentile.\n",
      "Movie average is negative. Removing 1st percentile.\n",
      "In setting CNMFParams, non-pathed parameters were used; this is deprecated. In some future version of Caiman, allow_legacy will default to False (and eventually will be removed)\n"
     ]
    },
    {
     "name": "stdout",
     "output_type": "stream",
     "text": [
      "/mnt/md0/BRUKER/TSeries-12172024-1304-003\n"
     ]
    },
    {
     "name": "stderr",
     "output_type": "stream",
     "text": [
      "The local backend is an alias for the multiprocessing backend, and the alias may be removed in some future version of Caiman\n",
      "In setting CNMFParams, non-pathed parameters were used; this is deprecated. In some future version of Caiman, allow_legacy will default to False (and eventually will be removed)\n",
      "The local backend is an alias for the multiprocessing backend, and the alias may be removed in some future version of Caiman\n",
      "Movie average is negative. Removing 1st percentile.\n",
      "Movie average is negative. Removing 1st percentile.\n",
      "Movie average is negative. Removing 1st percentile.\n",
      "In setting CNMFParams, non-pathed parameters were used; this is deprecated. In some future version of Caiman, allow_legacy will default to False (and eventually will be removed)\n"
     ]
    },
    {
     "name": "stdout",
     "output_type": "stream",
     "text": [
      "/mnt/md0/BRUKER/TSeries-12172024-1304-004\n"
     ]
    },
    {
     "name": "stderr",
     "output_type": "stream",
     "text": [
      "The local backend is an alias for the multiprocessing backend, and the alias may be removed in some future version of Caiman\n",
      "In setting CNMFParams, non-pathed parameters were used; this is deprecated. In some future version of Caiman, allow_legacy will default to False (and eventually will be removed)\n",
      "The local backend is an alias for the multiprocessing backend, and the alias may be removed in some future version of Caiman\n",
      "Movie average is negative. Removing 1st percentile.\n",
      "Movie average is negative. Removing 1st percentile.\n",
      "Movie average is negative. Removing 1st percentile.\n",
      "In setting CNMFParams, non-pathed parameters were used; this is deprecated. In some future version of Caiman, allow_legacy will default to False (and eventually will be removed)\n"
     ]
    },
    {
     "name": "stdout",
     "output_type": "stream",
     "text": [
      "/mnt/md0/BRUKER/TSeries-12172024-1304-005\n"
     ]
    },
    {
     "name": "stderr",
     "output_type": "stream",
     "text": [
      "The local backend is an alias for the multiprocessing backend, and the alias may be removed in some future version of Caiman\n",
      "In setting CNMFParams, non-pathed parameters were used; this is deprecated. In some future version of Caiman, allow_legacy will default to False (and eventually will be removed)\n",
      "The local backend is an alias for the multiprocessing backend, and the alias may be removed in some future version of Caiman\n",
      "Movie average is negative. Removing 1st percentile.\n",
      "Movie average is negative. Removing 1st percentile.\n",
      "Movie average is negative. Removing 1st percentile.\n",
      "In setting CNMFParams, non-pathed parameters were used; this is deprecated. In some future version of Caiman, allow_legacy will default to False (and eventually will be removed)\n"
     ]
    },
    {
     "name": "stdout",
     "output_type": "stream",
     "text": [
      "/mnt/md0/BRUKER/TSeries-12172024-1304-006\n"
     ]
    },
    {
     "name": "stderr",
     "output_type": "stream",
     "text": [
      "The local backend is an alias for the multiprocessing backend, and the alias may be removed in some future version of Caiman\n",
      "In setting CNMFParams, non-pathed parameters were used; this is deprecated. In some future version of Caiman, allow_legacy will default to False (and eventually will be removed)\n",
      "The local backend is an alias for the multiprocessing backend, and the alias may be removed in some future version of Caiman\n",
      "Movie average is negative. Removing 1st percentile.\n",
      "Movie average is negative. Removing 1st percentile.\n",
      "Movie average is negative. Removing 1st percentile.\n",
      "In setting CNMFParams, non-pathed parameters were used; this is deprecated. In some future version of Caiman, allow_legacy will default to False (and eventually will be removed)\n"
     ]
    },
    {
     "name": "stdout",
     "output_type": "stream",
     "text": [
      "/mnt/md0/BRUKER/TSeries-12172024-1304-007\n"
     ]
    },
    {
     "name": "stderr",
     "output_type": "stream",
     "text": [
      "The local backend is an alias for the multiprocessing backend, and the alias may be removed in some future version of Caiman\n",
      "In setting CNMFParams, non-pathed parameters were used; this is deprecated. In some future version of Caiman, allow_legacy will default to False (and eventually will be removed)\n",
      "The local backend is an alias for the multiprocessing backend, and the alias may be removed in some future version of Caiman\n",
      "Movie average is negative. Removing 1st percentile.\n",
      "Movie average is negative. Removing 1st percentile.\n",
      "Movie average is negative. Removing 1st percentile.\n",
      "In setting CNMFParams, non-pathed parameters were used; this is deprecated. In some future version of Caiman, allow_legacy will default to False (and eventually will be removed)\n"
     ]
    },
    {
     "name": "stdout",
     "output_type": "stream",
     "text": [
      "/mnt/md0/BRUKER/TSeries-12172024-1304-008\n"
     ]
    },
    {
     "name": "stderr",
     "output_type": "stream",
     "text": [
      "The local backend is an alias for the multiprocessing backend, and the alias may be removed in some future version of Caiman\n",
      "In setting CNMFParams, non-pathed parameters were used; this is deprecated. In some future version of Caiman, allow_legacy will default to False (and eventually will be removed)\n",
      "The local backend is an alias for the multiprocessing backend, and the alias may be removed in some future version of Caiman\n",
      "Movie average is negative. Removing 1st percentile.\n",
      "Movie average is negative. Removing 1st percentile.\n",
      "Movie average is negative. Removing 1st percentile.\n",
      "In setting CNMFParams, non-pathed parameters were used; this is deprecated. In some future version of Caiman, allow_legacy will default to False (and eventually will be removed)\n"
     ]
    },
    {
     "name": "stdout",
     "output_type": "stream",
     "text": [
      "/mnt/md0/BRUKER/TSeries-12172024-1304-009\n"
     ]
    },
    {
     "name": "stderr",
     "output_type": "stream",
     "text": [
      "The local backend is an alias for the multiprocessing backend, and the alias may be removed in some future version of Caiman\n",
      "In setting CNMFParams, non-pathed parameters were used; this is deprecated. In some future version of Caiman, allow_legacy will default to False (and eventually will be removed)\n",
      "The local backend is an alias for the multiprocessing backend, and the alias may be removed in some future version of Caiman\n",
      "Movie average is negative. Removing 1st percentile.\n",
      "Movie average is negative. Removing 1st percentile.\n",
      "Movie average is negative. Removing 1st percentile.\n",
      "In setting CNMFParams, non-pathed parameters were used; this is deprecated. In some future version of Caiman, allow_legacy will default to False (and eventually will be removed)\n"
     ]
    },
    {
     "name": "stdout",
     "output_type": "stream",
     "text": [
      "/mnt/md0/BRUKER/TSeries-12172024-1304-010\n"
     ]
    },
    {
     "name": "stderr",
     "output_type": "stream",
     "text": [
      "The local backend is an alias for the multiprocessing backend, and the alias may be removed in some future version of Caiman\n",
      "In setting CNMFParams, non-pathed parameters were used; this is deprecated. In some future version of Caiman, allow_legacy will default to False (and eventually will be removed)\n",
      "The local backend is an alias for the multiprocessing backend, and the alias may be removed in some future version of Caiman\n",
      "Movie average is negative. Removing 1st percentile.\n",
      "Movie average is negative. Removing 1st percentile.\n",
      "Movie average is negative. Removing 1st percentile.\n",
      "In setting CNMFParams, non-pathed parameters were used; this is deprecated. In some future version of Caiman, allow_legacy will default to False (and eventually will be removed)\n"
     ]
    },
    {
     "name": "stdout",
     "output_type": "stream",
     "text": [
      "/mnt/md0/BRUKER/TSeries-12172024-1304-011\n"
     ]
    },
    {
     "name": "stderr",
     "output_type": "stream",
     "text": [
      "The local backend is an alias for the multiprocessing backend, and the alias may be removed in some future version of Caiman\n",
      "In setting CNMFParams, non-pathed parameters were used; this is deprecated. In some future version of Caiman, allow_legacy will default to False (and eventually will be removed)\n",
      "The local backend is an alias for the multiprocessing backend, and the alias may be removed in some future version of Caiman\n",
      "Movie average is negative. Removing 1st percentile.\n",
      "Movie average is negative. Removing 1st percentile.\n",
      "Movie average is negative. Removing 1st percentile.\n",
      "In setting CNMFParams, non-pathed parameters were used; this is deprecated. In some future version of Caiman, allow_legacy will default to False (and eventually will be removed)\n"
     ]
    },
    {
     "name": "stdout",
     "output_type": "stream",
     "text": [
      "/mnt/md0/BRUKER/TSeries-12172024-1304-012\n"
     ]
    },
    {
     "name": "stderr",
     "output_type": "stream",
     "text": [
      "The local backend is an alias for the multiprocessing backend, and the alias may be removed in some future version of Caiman\n",
      "In setting CNMFParams, non-pathed parameters were used; this is deprecated. In some future version of Caiman, allow_legacy will default to False (and eventually will be removed)\n",
      "The local backend is an alias for the multiprocessing backend, and the alias may be removed in some future version of Caiman\n",
      "Movie average is negative. Removing 1st percentile.\n",
      "Movie average is negative. Removing 1st percentile.\n",
      "Movie average is negative. Removing 1st percentile.\n",
      "In setting CNMFParams, non-pathed parameters were used; this is deprecated. In some future version of Caiman, allow_legacy will default to False (and eventually will be removed)\n"
     ]
    },
    {
     "name": "stdout",
     "output_type": "stream",
     "text": [
      "/mnt/md0/BRUKER/TSeries-12172024-1304-013\n"
     ]
    },
    {
     "name": "stderr",
     "output_type": "stream",
     "text": [
      "The local backend is an alias for the multiprocessing backend, and the alias may be removed in some future version of Caiman\n",
      "In setting CNMFParams, non-pathed parameters were used; this is deprecated. In some future version of Caiman, allow_legacy will default to False (and eventually will be removed)\n",
      "The local backend is an alias for the multiprocessing backend, and the alias may be removed in some future version of Caiman\n",
      "Movie average is negative. Removing 1st percentile.\n",
      "Movie average is negative. Removing 1st percentile.\n",
      "Movie average is negative. Removing 1st percentile.\n",
      "In setting CNMFParams, non-pathed parameters were used; this is deprecated. In some future version of Caiman, allow_legacy will default to False (and eventually will be removed)\n"
     ]
    },
    {
     "name": "stdout",
     "output_type": "stream",
     "text": [
      "/mnt/md0/BRUKER/TSeries-12172024-1304-014\n"
     ]
    },
    {
     "name": "stderr",
     "output_type": "stream",
     "text": [
      "The local backend is an alias for the multiprocessing backend, and the alias may be removed in some future version of Caiman\n",
      "In setting CNMFParams, non-pathed parameters were used; this is deprecated. In some future version of Caiman, allow_legacy will default to False (and eventually will be removed)\n",
      "The local backend is an alias for the multiprocessing backend, and the alias may be removed in some future version of Caiman\n",
      "Movie average is negative. Removing 1st percentile.\n",
      "Movie average is negative. Removing 1st percentile.\n",
      "Movie average is negative. Removing 1st percentile.\n",
      "In setting CNMFParams, non-pathed parameters were used; this is deprecated. In some future version of Caiman, allow_legacy will default to False (and eventually will be removed)\n"
     ]
    },
    {
     "name": "stdout",
     "output_type": "stream",
     "text": [
      "/mnt/md0/BRUKER/TSeries-12172024-1304-015\n"
     ]
    },
    {
     "name": "stderr",
     "output_type": "stream",
     "text": [
      "The local backend is an alias for the multiprocessing backend, and the alias may be removed in some future version of Caiman\n",
      "In setting CNMFParams, non-pathed parameters were used; this is deprecated. In some future version of Caiman, allow_legacy will default to False (and eventually will be removed)\n",
      "The local backend is an alias for the multiprocessing backend, and the alias may be removed in some future version of Caiman\n",
      "Movie average is negative. Removing 1st percentile.\n",
      "Movie average is negative. Removing 1st percentile.\n",
      "Movie average is negative. Removing 1st percentile.\n",
      "In setting CNMFParams, non-pathed parameters were used; this is deprecated. In some future version of Caiman, allow_legacy will default to False (and eventually will be removed)\n"
     ]
    },
    {
     "name": "stdout",
     "output_type": "stream",
     "text": [
      "/mnt/md0/BRUKER/TSeries-12172024-1304-016\n"
     ]
    },
    {
     "name": "stderr",
     "output_type": "stream",
     "text": [
      "The local backend is an alias for the multiprocessing backend, and the alias may be removed in some future version of Caiman\n",
      "In setting CNMFParams, non-pathed parameters were used; this is deprecated. In some future version of Caiman, allow_legacy will default to False (and eventually will be removed)\n",
      "The local backend is an alias for the multiprocessing backend, and the alias may be removed in some future version of Caiman\n",
      "Movie average is negative. Removing 1st percentile.\n",
      "Movie average is negative. Removing 1st percentile.\n",
      "Movie average is negative. Removing 1st percentile.\n",
      "In setting CNMFParams, non-pathed parameters were used; this is deprecated. In some future version of Caiman, allow_legacy will default to False (and eventually will be removed)\n"
     ]
    },
    {
     "name": "stdout",
     "output_type": "stream",
     "text": [
      "/mnt/md0/BRUKER/TSeries-12172024-1304-017\n"
     ]
    },
    {
     "name": "stderr",
     "output_type": "stream",
     "text": [
      "The local backend is an alias for the multiprocessing backend, and the alias may be removed in some future version of Caiman\n",
      "In setting CNMFParams, non-pathed parameters were used; this is deprecated. In some future version of Caiman, allow_legacy will default to False (and eventually will be removed)\n",
      "The local backend is an alias for the multiprocessing backend, and the alias may be removed in some future version of Caiman\n",
      "Movie average is negative. Removing 1st percentile.\n",
      "Movie average is negative. Removing 1st percentile.\n",
      "Movie average is negative. Removing 1st percentile.\n",
      "In setting CNMFParams, non-pathed parameters were used; this is deprecated. In some future version of Caiman, allow_legacy will default to False (and eventually will be removed)\n"
     ]
    },
    {
     "name": "stdout",
     "output_type": "stream",
     "text": [
      "/mnt/md0/BRUKER/TSeries-12172024-1304-018\n"
     ]
    },
    {
     "name": "stderr",
     "output_type": "stream",
     "text": [
      "The local backend is an alias for the multiprocessing backend, and the alias may be removed in some future version of Caiman\n",
      "In setting CNMFParams, non-pathed parameters were used; this is deprecated. In some future version of Caiman, allow_legacy will default to False (and eventually will be removed)\n",
      "The local backend is an alias for the multiprocessing backend, and the alias may be removed in some future version of Caiman\n",
      "Movie average is negative. Removing 1st percentile.\n",
      "Movie average is negative. Removing 1st percentile.\n",
      "Movie average is negative. Removing 1st percentile.\n",
      "In setting CNMFParams, non-pathed parameters were used; this is deprecated. In some future version of Caiman, allow_legacy will default to False (and eventually will be removed)\n"
     ]
    },
    {
     "name": "stdout",
     "output_type": "stream",
     "text": [
      "/mnt/md0/BRUKER/TSeries-12172024-1304-019\n"
     ]
    },
    {
     "name": "stderr",
     "output_type": "stream",
     "text": [
      "The local backend is an alias for the multiprocessing backend, and the alias may be removed in some future version of Caiman\n",
      "In setting CNMFParams, non-pathed parameters were used; this is deprecated. In some future version of Caiman, allow_legacy will default to False (and eventually will be removed)\n",
      "The local backend is an alias for the multiprocessing backend, and the alias may be removed in some future version of Caiman\n",
      "Movie average is negative. Removing 1st percentile.\n",
      "Movie average is negative. Removing 1st percentile.\n",
      "Movie average is negative. Removing 1st percentile.\n",
      "In setting CNMFParams, non-pathed parameters were used; this is deprecated. In some future version of Caiman, allow_legacy will default to False (and eventually will be removed)\n"
     ]
    },
    {
     "name": "stdout",
     "output_type": "stream",
     "text": [
      "/mnt/md0/BRUKER/TSeries-12172024-1304-020\n"
     ]
    },
    {
     "name": "stderr",
     "output_type": "stream",
     "text": [
      "The local backend is an alias for the multiprocessing backend, and the alias may be removed in some future version of Caiman\n",
      "In setting CNMFParams, non-pathed parameters were used; this is deprecated. In some future version of Caiman, allow_legacy will default to False (and eventually will be removed)\n",
      "The local backend is an alias for the multiprocessing backend, and the alias may be removed in some future version of Caiman\n",
      "Movie average is negative. Removing 1st percentile.\n",
      "Movie average is negative. Removing 1st percentile.\n",
      "Movie average is negative. Removing 1st percentile.\n",
      "In setting CNMFParams, non-pathed parameters were used; this is deprecated. In some future version of Caiman, allow_legacy will default to False (and eventually will be removed)\n"
     ]
    },
    {
     "name": "stdout",
     "output_type": "stream",
     "text": [
      "/mnt/md0/BRUKER/TSeries-12172024-1304-021\n"
     ]
    },
    {
     "name": "stderr",
     "output_type": "stream",
     "text": [
      "The local backend is an alias for the multiprocessing backend, and the alias may be removed in some future version of Caiman\n",
      "In setting CNMFParams, non-pathed parameters were used; this is deprecated. In some future version of Caiman, allow_legacy will default to False (and eventually will be removed)\n",
      "The local backend is an alias for the multiprocessing backend, and the alias may be removed in some future version of Caiman\n",
      "Movie average is negative. Removing 1st percentile.\n",
      "Movie average is negative. Removing 1st percentile.\n",
      "Movie average is negative. Removing 1st percentile.\n",
      "In setting CNMFParams, non-pathed parameters were used; this is deprecated. In some future version of Caiman, allow_legacy will default to False (and eventually will be removed)\n"
     ]
    },
    {
     "name": "stdout",
     "output_type": "stream",
     "text": [
      "/mnt/md0/BRUKER/TSeries-12172024-1304-022\n"
     ]
    },
    {
     "name": "stderr",
     "output_type": "stream",
     "text": [
      "The local backend is an alias for the multiprocessing backend, and the alias may be removed in some future version of Caiman\n",
      "In setting CNMFParams, non-pathed parameters were used; this is deprecated. In some future version of Caiman, allow_legacy will default to False (and eventually will be removed)\n",
      "The local backend is an alias for the multiprocessing backend, and the alias may be removed in some future version of Caiman\n",
      "Movie average is negative. Removing 1st percentile.\n",
      "Movie average is negative. Removing 1st percentile.\n",
      "Movie average is negative. Removing 1st percentile.\n",
      "In setting CNMFParams, non-pathed parameters were used; this is deprecated. In some future version of Caiman, allow_legacy will default to False (and eventually will be removed)\n"
     ]
    },
    {
     "name": "stdout",
     "output_type": "stream",
     "text": [
      "/mnt/md0/BRUKER/TSeries-12172024-1304-023\n"
     ]
    },
    {
     "name": "stderr",
     "output_type": "stream",
     "text": [
      "The local backend is an alias for the multiprocessing backend, and the alias may be removed in some future version of Caiman\n",
      "In setting CNMFParams, non-pathed parameters were used; this is deprecated. In some future version of Caiman, allow_legacy will default to False (and eventually will be removed)\n",
      "The local backend is an alias for the multiprocessing backend, and the alias may be removed in some future version of Caiman\n",
      "Movie average is negative. Removing 1st percentile.\n",
      "Movie average is negative. Removing 1st percentile.\n",
      "Movie average is negative. Removing 1st percentile.\n",
      "In setting CNMFParams, non-pathed parameters were used; this is deprecated. In some future version of Caiman, allow_legacy will default to False (and eventually will be removed)\n"
     ]
    },
    {
     "name": "stdout",
     "output_type": "stream",
     "text": [
      "/mnt/md0/BRUKER/TSeries-12172024-1304-024\n"
     ]
    },
    {
     "name": "stderr",
     "output_type": "stream",
     "text": [
      "The local backend is an alias for the multiprocessing backend, and the alias may be removed in some future version of Caiman\n",
      "In setting CNMFParams, non-pathed parameters were used; this is deprecated. In some future version of Caiman, allow_legacy will default to False (and eventually will be removed)\n",
      "The local backend is an alias for the multiprocessing backend, and the alias may be removed in some future version of Caiman\n",
      "Movie average is negative. Removing 1st percentile.\n",
      "Movie average is negative. Removing 1st percentile.\n",
      "Movie average is negative. Removing 1st percentile.\n",
      "In setting CNMFParams, non-pathed parameters were used; this is deprecated. In some future version of Caiman, allow_legacy will default to False (and eventually will be removed)\n"
     ]
    },
    {
     "name": "stdout",
     "output_type": "stream",
     "text": [
      "/mnt/md0/BRUKER/TSeries-12172024-1304-025\n"
     ]
    },
    {
     "name": "stderr",
     "output_type": "stream",
     "text": [
      "The local backend is an alias for the multiprocessing backend, and the alias may be removed in some future version of Caiman\n",
      "In setting CNMFParams, non-pathed parameters were used; this is deprecated. In some future version of Caiman, allow_legacy will default to False (and eventually will be removed)\n",
      "The local backend is an alias for the multiprocessing backend, and the alias may be removed in some future version of Caiman\n",
      "Movie average is negative. Removing 1st percentile.\n",
      "Movie average is negative. Removing 1st percentile.\n",
      "Movie average is negative. Removing 1st percentile.\n",
      "In setting CNMFParams, non-pathed parameters were used; this is deprecated. In some future version of Caiman, allow_legacy will default to False (and eventually will be removed)\n"
     ]
    },
    {
     "name": "stdout",
     "output_type": "stream",
     "text": [
      "/mnt/md0/BRUKER/TSeries-12172024-1304-026\n"
     ]
    },
    {
     "name": "stderr",
     "output_type": "stream",
     "text": [
      "The local backend is an alias for the multiprocessing backend, and the alias may be removed in some future version of Caiman\n",
      "In setting CNMFParams, non-pathed parameters were used; this is deprecated. In some future version of Caiman, allow_legacy will default to False (and eventually will be removed)\n",
      "The local backend is an alias for the multiprocessing backend, and the alias may be removed in some future version of Caiman\n",
      "Movie average is negative. Removing 1st percentile.\n",
      "Movie average is negative. Removing 1st percentile.\n",
      "Movie average is negative. Removing 1st percentile.\n",
      "In setting CNMFParams, non-pathed parameters were used; this is deprecated. In some future version of Caiman, allow_legacy will default to False (and eventually will be removed)\n"
     ]
    },
    {
     "name": "stdout",
     "output_type": "stream",
     "text": [
      "/mnt/md0/BRUKER/TSeries-12172024-1304-027\n"
     ]
    },
    {
     "name": "stderr",
     "output_type": "stream",
     "text": [
      "The local backend is an alias for the multiprocessing backend, and the alias may be removed in some future version of Caiman\n",
      "In setting CNMFParams, non-pathed parameters were used; this is deprecated. In some future version of Caiman, allow_legacy will default to False (and eventually will be removed)\n",
      "The local backend is an alias for the multiprocessing backend, and the alias may be removed in some future version of Caiman\n",
      "Movie average is negative. Removing 1st percentile.\n",
      "Movie average is negative. Removing 1st percentile.\n",
      "Movie average is negative. Removing 1st percentile.\n",
      "In setting CNMFParams, non-pathed parameters were used; this is deprecated. In some future version of Caiman, allow_legacy will default to False (and eventually will be removed)\n"
     ]
    },
    {
     "name": "stdout",
     "output_type": "stream",
     "text": [
      "/mnt/md0/BRUKER/TSeries-12172024-1304-028\n"
     ]
    },
    {
     "name": "stderr",
     "output_type": "stream",
     "text": [
      "The local backend is an alias for the multiprocessing backend, and the alias may be removed in some future version of Caiman\n",
      "In setting CNMFParams, non-pathed parameters were used; this is deprecated. In some future version of Caiman, allow_legacy will default to False (and eventually will be removed)\n",
      "The local backend is an alias for the multiprocessing backend, and the alias may be removed in some future version of Caiman\n",
      "Movie average is negative. Removing 1st percentile.\n",
      "Movie average is negative. Removing 1st percentile.\n",
      "Movie average is negative. Removing 1st percentile.\n",
      "In setting CNMFParams, non-pathed parameters were used; this is deprecated. In some future version of Caiman, allow_legacy will default to False (and eventually will be removed)\n"
     ]
    },
    {
     "name": "stdout",
     "output_type": "stream",
     "text": [
      "/mnt/md0/BRUKER/TSeries-12172024-1304-029\n"
     ]
    },
    {
     "name": "stderr",
     "output_type": "stream",
     "text": [
      "The local backend is an alias for the multiprocessing backend, and the alias may be removed in some future version of Caiman\n",
      "In setting CNMFParams, non-pathed parameters were used; this is deprecated. In some future version of Caiman, allow_legacy will default to False (and eventually will be removed)\n",
      "The local backend is an alias for the multiprocessing backend, and the alias may be removed in some future version of Caiman\n",
      "Movie average is negative. Removing 1st percentile.\n",
      "Movie average is negative. Removing 1st percentile.\n",
      "Movie average is negative. Removing 1st percentile.\n",
      "In setting CNMFParams, non-pathed parameters were used; this is deprecated. In some future version of Caiman, allow_legacy will default to False (and eventually will be removed)\n"
     ]
    },
    {
     "name": "stdout",
     "output_type": "stream",
     "text": [
      "/mnt/md0/BRUKER/TSeries-12182024-1024-002\n"
     ]
    },
    {
     "name": "stderr",
     "output_type": "stream",
     "text": [
      "The local backend is an alias for the multiprocessing backend, and the alias may be removed in some future version of Caiman\n",
      "In setting CNMFParams, non-pathed parameters were used; this is deprecated. In some future version of Caiman, allow_legacy will default to False (and eventually will be removed)\n",
      "The local backend is an alias for the multiprocessing backend, and the alias may be removed in some future version of Caiman\n",
      "Movie average is negative. Removing 1st percentile.\n",
      "Movie average is negative. Removing 1st percentile.\n",
      "Movie average is negative. Removing 1st percentile.\n",
      "In setting CNMFParams, non-pathed parameters were used; this is deprecated. In some future version of Caiman, allow_legacy will default to False (and eventually will be removed)\n"
     ]
    },
    {
     "name": "stdout",
     "output_type": "stream",
     "text": [
      "/mnt/md0/BRUKER/TSeries-12182024-1024-003\n"
     ]
    },
    {
     "name": "stderr",
     "output_type": "stream",
     "text": [
      "The local backend is an alias for the multiprocessing backend, and the alias may be removed in some future version of Caiman\n",
      "In setting CNMFParams, non-pathed parameters were used; this is deprecated. In some future version of Caiman, allow_legacy will default to False (and eventually will be removed)\n",
      "The local backend is an alias for the multiprocessing backend, and the alias may be removed in some future version of Caiman\n",
      "Movie average is negative. Removing 1st percentile.\n",
      "Movie average is negative. Removing 1st percentile.\n",
      "Movie average is negative. Removing 1st percentile.\n",
      "In setting CNMFParams, non-pathed parameters were used; this is deprecated. In some future version of Caiman, allow_legacy will default to False (and eventually will be removed)\n"
     ]
    },
    {
     "name": "stdout",
     "output_type": "stream",
     "text": [
      "/mnt/md0/BRUKER/TSeries-12182024-1024-004\n"
     ]
    },
    {
     "name": "stderr",
     "output_type": "stream",
     "text": [
      "The local backend is an alias for the multiprocessing backend, and the alias may be removed in some future version of Caiman\n",
      "In setting CNMFParams, non-pathed parameters were used; this is deprecated. In some future version of Caiman, allow_legacy will default to False (and eventually will be removed)\n",
      "The local backend is an alias for the multiprocessing backend, and the alias may be removed in some future version of Caiman\n",
      "Movie average is negative. Removing 1st percentile.\n",
      "Movie average is negative. Removing 1st percentile.\n",
      "Movie average is negative. Removing 1st percentile.\n",
      "In setting CNMFParams, non-pathed parameters were used; this is deprecated. In some future version of Caiman, allow_legacy will default to False (and eventually will be removed)\n"
     ]
    },
    {
     "name": "stdout",
     "output_type": "stream",
     "text": [
      "/mnt/md0/BRUKER/TSeries-12182024-1024-005\n"
     ]
    },
    {
     "name": "stderr",
     "output_type": "stream",
     "text": [
      "The local backend is an alias for the multiprocessing backend, and the alias may be removed in some future version of Caiman\n",
      "In setting CNMFParams, non-pathed parameters were used; this is deprecated. In some future version of Caiman, allow_legacy will default to False (and eventually will be removed)\n",
      "The local backend is an alias for the multiprocessing backend, and the alias may be removed in some future version of Caiman\n",
      "Movie average is negative. Removing 1st percentile.\n",
      "Movie average is negative. Removing 1st percentile.\n",
      "Movie average is negative. Removing 1st percentile.\n",
      "In setting CNMFParams, non-pathed parameters were used; this is deprecated. In some future version of Caiman, allow_legacy will default to False (and eventually will be removed)\n"
     ]
    },
    {
     "name": "stdout",
     "output_type": "stream",
     "text": [
      "/mnt/md0/BRUKER/TSeries-12182024-1024-006\n"
     ]
    },
    {
     "name": "stderr",
     "output_type": "stream",
     "text": [
      "The local backend is an alias for the multiprocessing backend, and the alias may be removed in some future version of Caiman\n",
      "In setting CNMFParams, non-pathed parameters were used; this is deprecated. In some future version of Caiman, allow_legacy will default to False (and eventually will be removed)\n",
      "The local backend is an alias for the multiprocessing backend, and the alias may be removed in some future version of Caiman\n",
      "Movie average is negative. Removing 1st percentile.\n",
      "Movie average is negative. Removing 1st percentile.\n",
      "Movie average is negative. Removing 1st percentile.\n",
      "In setting CNMFParams, non-pathed parameters were used; this is deprecated. In some future version of Caiman, allow_legacy will default to False (and eventually will be removed)\n"
     ]
    },
    {
     "name": "stdout",
     "output_type": "stream",
     "text": [
      "/mnt/md0/BRUKER/TSeries-12182024-1024-007\n"
     ]
    },
    {
     "name": "stderr",
     "output_type": "stream",
     "text": [
      "The local backend is an alias for the multiprocessing backend, and the alias may be removed in some future version of Caiman\n",
      "In setting CNMFParams, non-pathed parameters were used; this is deprecated. In some future version of Caiman, allow_legacy will default to False (and eventually will be removed)\n",
      "The local backend is an alias for the multiprocessing backend, and the alias may be removed in some future version of Caiman\n",
      "Movie average is negative. Removing 1st percentile.\n",
      "Movie average is negative. Removing 1st percentile.\n",
      "Movie average is negative. Removing 1st percentile.\n",
      "In setting CNMFParams, non-pathed parameters were used; this is deprecated. In some future version of Caiman, allow_legacy will default to False (and eventually will be removed)\n"
     ]
    },
    {
     "name": "stdout",
     "output_type": "stream",
     "text": [
      "/mnt/md0/BRUKER/TSeries-12182024-1024-008\n"
     ]
    },
    {
     "name": "stderr",
     "output_type": "stream",
     "text": [
      "The local backend is an alias for the multiprocessing backend, and the alias may be removed in some future version of Caiman\n",
      "In setting CNMFParams, non-pathed parameters were used; this is deprecated. In some future version of Caiman, allow_legacy will default to False (and eventually will be removed)\n",
      "The local backend is an alias for the multiprocessing backend, and the alias may be removed in some future version of Caiman\n",
      "Movie average is negative. Removing 1st percentile.\n",
      "Movie average is negative. Removing 1st percentile.\n",
      "Movie average is negative. Removing 1st percentile.\n",
      "In setting CNMFParams, non-pathed parameters were used; this is deprecated. In some future version of Caiman, allow_legacy will default to False (and eventually will be removed)\n"
     ]
    },
    {
     "name": "stdout",
     "output_type": "stream",
     "text": [
      "/mnt/md0/BRUKER/TSeries-12182024-1024-009\n"
     ]
    },
    {
     "name": "stderr",
     "output_type": "stream",
     "text": [
      "The local backend is an alias for the multiprocessing backend, and the alias may be removed in some future version of Caiman\n",
      "In setting CNMFParams, non-pathed parameters were used; this is deprecated. In some future version of Caiman, allow_legacy will default to False (and eventually will be removed)\n",
      "The local backend is an alias for the multiprocessing backend, and the alias may be removed in some future version of Caiman\n",
      "Movie average is negative. Removing 1st percentile.\n",
      "Movie average is negative. Removing 1st percentile.\n",
      "Movie average is negative. Removing 1st percentile.\n",
      "In setting CNMFParams, non-pathed parameters were used; this is deprecated. In some future version of Caiman, allow_legacy will default to False (and eventually will be removed)\n"
     ]
    },
    {
     "name": "stdout",
     "output_type": "stream",
     "text": [
      "/mnt/md0/BRUKER/TSeries-12182024-1024-010\n"
     ]
    },
    {
     "name": "stderr",
     "output_type": "stream",
     "text": [
      "The local backend is an alias for the multiprocessing backend, and the alias may be removed in some future version of Caiman\n",
      "In setting CNMFParams, non-pathed parameters were used; this is deprecated. In some future version of Caiman, allow_legacy will default to False (and eventually will be removed)\n",
      "The local backend is an alias for the multiprocessing backend, and the alias may be removed in some future version of Caiman\n",
      "Movie average is negative. Removing 1st percentile.\n",
      "Movie average is negative. Removing 1st percentile.\n",
      "Movie average is negative. Removing 1st percentile.\n",
      "In setting CNMFParams, non-pathed parameters were used; this is deprecated. In some future version of Caiman, allow_legacy will default to False (and eventually will be removed)\n"
     ]
    },
    {
     "name": "stdout",
     "output_type": "stream",
     "text": [
      "/mnt/md0/BRUKER/TSeries-12182024-1024-011\n"
     ]
    },
    {
     "name": "stderr",
     "output_type": "stream",
     "text": [
      "The local backend is an alias for the multiprocessing backend, and the alias may be removed in some future version of Caiman\n",
      "In setting CNMFParams, non-pathed parameters were used; this is deprecated. In some future version of Caiman, allow_legacy will default to False (and eventually will be removed)\n",
      "The local backend is an alias for the multiprocessing backend, and the alias may be removed in some future version of Caiman\n",
      "Movie average is negative. Removing 1st percentile.\n",
      "Movie average is negative. Removing 1st percentile.\n",
      "Movie average is negative. Removing 1st percentile.\n",
      "In setting CNMFParams, non-pathed parameters were used; this is deprecated. In some future version of Caiman, allow_legacy will default to False (and eventually will be removed)\n"
     ]
    },
    {
     "name": "stdout",
     "output_type": "stream",
     "text": [
      "/mnt/md0/BRUKER/TSeries-12182024-1024-012\n"
     ]
    },
    {
     "name": "stderr",
     "output_type": "stream",
     "text": [
      "The local backend is an alias for the multiprocessing backend, and the alias may be removed in some future version of Caiman\n",
      "In setting CNMFParams, non-pathed parameters were used; this is deprecated. In some future version of Caiman, allow_legacy will default to False (and eventually will be removed)\n",
      "The local backend is an alias for the multiprocessing backend, and the alias may be removed in some future version of Caiman\n",
      "Movie average is negative. Removing 1st percentile.\n",
      "Movie average is negative. Removing 1st percentile.\n",
      "Movie average is negative. Removing 1st percentile.\n",
      "In setting CNMFParams, non-pathed parameters were used; this is deprecated. In some future version of Caiman, allow_legacy will default to False (and eventually will be removed)\n"
     ]
    },
    {
     "name": "stdout",
     "output_type": "stream",
     "text": [
      "/mnt/md0/BRUKER/TSeries-12182024-1024-013\n"
     ]
    },
    {
     "name": "stderr",
     "output_type": "stream",
     "text": [
      "The local backend is an alias for the multiprocessing backend, and the alias may be removed in some future version of Caiman\n",
      "In setting CNMFParams, non-pathed parameters were used; this is deprecated. In some future version of Caiman, allow_legacy will default to False (and eventually will be removed)\n",
      "The local backend is an alias for the multiprocessing backend, and the alias may be removed in some future version of Caiman\n",
      "Movie average is negative. Removing 1st percentile.\n",
      "Movie average is negative. Removing 1st percentile.\n",
      "Movie average is negative. Removing 1st percentile.\n",
      "In setting CNMFParams, non-pathed parameters were used; this is deprecated. In some future version of Caiman, allow_legacy will default to False (and eventually will be removed)\n"
     ]
    },
    {
     "name": "stdout",
     "output_type": "stream",
     "text": [
      "/mnt/md0/BRUKER/TSeries-12182024-1024-014\n"
     ]
    },
    {
     "name": "stderr",
     "output_type": "stream",
     "text": [
      "The local backend is an alias for the multiprocessing backend, and the alias may be removed in some future version of Caiman\n",
      "In setting CNMFParams, non-pathed parameters were used; this is deprecated. In some future version of Caiman, allow_legacy will default to False (and eventually will be removed)\n",
      "The local backend is an alias for the multiprocessing backend, and the alias may be removed in some future version of Caiman\n",
      "Movie average is negative. Removing 1st percentile.\n",
      "Movie average is negative. Removing 1st percentile.\n",
      "Movie average is negative. Removing 1st percentile.\n",
      "In setting CNMFParams, non-pathed parameters were used; this is deprecated. In some future version of Caiman, allow_legacy will default to False (and eventually will be removed)\n"
     ]
    },
    {
     "name": "stdout",
     "output_type": "stream",
     "text": [
      "/mnt/md0/BRUKER/TSeries-12182024-1024-015\n"
     ]
    },
    {
     "name": "stderr",
     "output_type": "stream",
     "text": [
      "The local backend is an alias for the multiprocessing backend, and the alias may be removed in some future version of Caiman\n",
      "In setting CNMFParams, non-pathed parameters were used; this is deprecated. In some future version of Caiman, allow_legacy will default to False (and eventually will be removed)\n",
      "The local backend is an alias for the multiprocessing backend, and the alias may be removed in some future version of Caiman\n",
      "Movie average is negative. Removing 1st percentile.\n",
      "Movie average is negative. Removing 1st percentile.\n",
      "Movie average is negative. Removing 1st percentile.\n",
      "In setting CNMFParams, non-pathed parameters were used; this is deprecated. In some future version of Caiman, allow_legacy will default to False (and eventually will be removed)\n"
     ]
    },
    {
     "name": "stdout",
     "output_type": "stream",
     "text": [
      "/mnt/md0/BRUKER/TSeries-12182024-1024-016\n"
     ]
    },
    {
     "name": "stderr",
     "output_type": "stream",
     "text": [
      "The local backend is an alias for the multiprocessing backend, and the alias may be removed in some future version of Caiman\n",
      "In setting CNMFParams, non-pathed parameters were used; this is deprecated. In some future version of Caiman, allow_legacy will default to False (and eventually will be removed)\n",
      "The local backend is an alias for the multiprocessing backend, and the alias may be removed in some future version of Caiman\n",
      "Movie average is negative. Removing 1st percentile.\n",
      "Movie average is negative. Removing 1st percentile.\n",
      "Movie average is negative. Removing 1st percentile.\n",
      "In setting CNMFParams, non-pathed parameters were used; this is deprecated. In some future version of Caiman, allow_legacy will default to False (and eventually will be removed)\n"
     ]
    },
    {
     "name": "stdout",
     "output_type": "stream",
     "text": [
      "/mnt/md0/BRUKER/TSeries-12182024-1024-017\n"
     ]
    },
    {
     "name": "stderr",
     "output_type": "stream",
     "text": [
      "The local backend is an alias for the multiprocessing backend, and the alias may be removed in some future version of Caiman\n",
      "In setting CNMFParams, non-pathed parameters were used; this is deprecated. In some future version of Caiman, allow_legacy will default to False (and eventually will be removed)\n",
      "The local backend is an alias for the multiprocessing backend, and the alias may be removed in some future version of Caiman\n",
      "Movie average is negative. Removing 1st percentile.\n",
      "Movie average is negative. Removing 1st percentile.\n",
      "Movie average is negative. Removing 1st percentile.\n",
      "In setting CNMFParams, non-pathed parameters were used; this is deprecated. In some future version of Caiman, allow_legacy will default to False (and eventually will be removed)\n"
     ]
    },
    {
     "name": "stdout",
     "output_type": "stream",
     "text": [
      "/mnt/md0/BRUKER/TSeries-12182024-1024-018\n"
     ]
    },
    {
     "name": "stderr",
     "output_type": "stream",
     "text": [
      "The local backend is an alias for the multiprocessing backend, and the alias may be removed in some future version of Caiman\n",
      "In setting CNMFParams, non-pathed parameters were used; this is deprecated. In some future version of Caiman, allow_legacy will default to False (and eventually will be removed)\n",
      "The local backend is an alias for the multiprocessing backend, and the alias may be removed in some future version of Caiman\n",
      "Movie average is negative. Removing 1st percentile.\n",
      "Movie average is negative. Removing 1st percentile.\n",
      "Movie average is negative. Removing 1st percentile.\n",
      "In setting CNMFParams, non-pathed parameters were used; this is deprecated. In some future version of Caiman, allow_legacy will default to False (and eventually will be removed)\n"
     ]
    },
    {
     "name": "stdout",
     "output_type": "stream",
     "text": [
      "/mnt/md0/BRUKER/TSeries-12182024-1024-019\n"
     ]
    },
    {
     "name": "stderr",
     "output_type": "stream",
     "text": [
      "The local backend is an alias for the multiprocessing backend, and the alias may be removed in some future version of Caiman\n",
      "In setting CNMFParams, non-pathed parameters were used; this is deprecated. In some future version of Caiman, allow_legacy will default to False (and eventually will be removed)\n",
      "The local backend is an alias for the multiprocessing backend, and the alias may be removed in some future version of Caiman\n",
      "Movie average is negative. Removing 1st percentile.\n",
      "Movie average is negative. Removing 1st percentile.\n",
      "Movie average is negative. Removing 1st percentile.\n",
      "In setting CNMFParams, non-pathed parameters were used; this is deprecated. In some future version of Caiman, allow_legacy will default to False (and eventually will be removed)\n"
     ]
    },
    {
     "name": "stdout",
     "output_type": "stream",
     "text": [
      "/mnt/md0/BRUKER/TSeries-12182024-1024-020\n"
     ]
    },
    {
     "name": "stderr",
     "output_type": "stream",
     "text": [
      "The local backend is an alias for the multiprocessing backend, and the alias may be removed in some future version of Caiman\n",
      "In setting CNMFParams, non-pathed parameters were used; this is deprecated. In some future version of Caiman, allow_legacy will default to False (and eventually will be removed)\n",
      "The local backend is an alias for the multiprocessing backend, and the alias may be removed in some future version of Caiman\n",
      "Movie average is negative. Removing 1st percentile.\n",
      "Movie average is negative. Removing 1st percentile.\n",
      "Movie average is negative. Removing 1st percentile.\n",
      "In setting CNMFParams, non-pathed parameters were used; this is deprecated. In some future version of Caiman, allow_legacy will default to False (and eventually will be removed)\n"
     ]
    },
    {
     "name": "stdout",
     "output_type": "stream",
     "text": [
      "/mnt/md0/BRUKER/TSeries-12182024-1024-021\n"
     ]
    },
    {
     "name": "stderr",
     "output_type": "stream",
     "text": [
      "The local backend is an alias for the multiprocessing backend, and the alias may be removed in some future version of Caiman\n",
      "In setting CNMFParams, non-pathed parameters were used; this is deprecated. In some future version of Caiman, allow_legacy will default to False (and eventually will be removed)\n",
      "The local backend is an alias for the multiprocessing backend, and the alias may be removed in some future version of Caiman\n",
      "Movie average is negative. Removing 1st percentile.\n",
      "Movie average is negative. Removing 1st percentile.\n",
      "Movie average is negative. Removing 1st percentile.\n",
      "In setting CNMFParams, non-pathed parameters were used; this is deprecated. In some future version of Caiman, allow_legacy will default to False (and eventually will be removed)\n"
     ]
    },
    {
     "name": "stdout",
     "output_type": "stream",
     "text": [
      "/mnt/md0/BRUKER/TSeries-12182024-1024-022\n"
     ]
    },
    {
     "name": "stderr",
     "output_type": "stream",
     "text": [
      "The local backend is an alias for the multiprocessing backend, and the alias may be removed in some future version of Caiman\n",
      "In setting CNMFParams, non-pathed parameters were used; this is deprecated. In some future version of Caiman, allow_legacy will default to False (and eventually will be removed)\n",
      "The local backend is an alias for the multiprocessing backend, and the alias may be removed in some future version of Caiman\n",
      "Movie average is negative. Removing 1st percentile.\n",
      "Movie average is negative. Removing 1st percentile.\n",
      "Movie average is negative. Removing 1st percentile.\n",
      "In setting CNMFParams, non-pathed parameters were used; this is deprecated. In some future version of Caiman, allow_legacy will default to False (and eventually will be removed)\n"
     ]
    },
    {
     "name": "stdout",
     "output_type": "stream",
     "text": [
      "/mnt/md0/BRUKER/TSeries-12182024-1024-023\n"
     ]
    },
    {
     "name": "stderr",
     "output_type": "stream",
     "text": [
      "The local backend is an alias for the multiprocessing backend, and the alias may be removed in some future version of Caiman\n",
      "In setting CNMFParams, non-pathed parameters were used; this is deprecated. In some future version of Caiman, allow_legacy will default to False (and eventually will be removed)\n",
      "The local backend is an alias for the multiprocessing backend, and the alias may be removed in some future version of Caiman\n",
      "Movie average is negative. Removing 1st percentile.\n",
      "Movie average is negative. Removing 1st percentile.\n",
      "Movie average is negative. Removing 1st percentile.\n",
      "In setting CNMFParams, non-pathed parameters were used; this is deprecated. In some future version of Caiman, allow_legacy will default to False (and eventually will be removed)\n"
     ]
    },
    {
     "name": "stdout",
     "output_type": "stream",
     "text": [
      "/mnt/md0/BRUKER/TSeries-12182024-1024-024\n"
     ]
    },
    {
     "name": "stderr",
     "output_type": "stream",
     "text": [
      "The local backend is an alias for the multiprocessing backend, and the alias may be removed in some future version of Caiman\n",
      "In setting CNMFParams, non-pathed parameters were used; this is deprecated. In some future version of Caiman, allow_legacy will default to False (and eventually will be removed)\n",
      "The local backend is an alias for the multiprocessing backend, and the alias may be removed in some future version of Caiman\n",
      "Movie average is negative. Removing 1st percentile.\n",
      "Movie average is negative. Removing 1st percentile.\n",
      "Movie average is negative. Removing 1st percentile.\n",
      "In setting CNMFParams, non-pathed parameters were used; this is deprecated. In some future version of Caiman, allow_legacy will default to False (and eventually will be removed)\n"
     ]
    },
    {
     "name": "stdout",
     "output_type": "stream",
     "text": [
      "/mnt/md0/BRUKER/TSeries-12182024-1024-025\n"
     ]
    },
    {
     "name": "stderr",
     "output_type": "stream",
     "text": [
      "The local backend is an alias for the multiprocessing backend, and the alias may be removed in some future version of Caiman\n",
      "In setting CNMFParams, non-pathed parameters were used; this is deprecated. In some future version of Caiman, allow_legacy will default to False (and eventually will be removed)\n",
      "The local backend is an alias for the multiprocessing backend, and the alias may be removed in some future version of Caiman\n",
      "Movie average is negative. Removing 1st percentile.\n",
      "Movie average is negative. Removing 1st percentile.\n",
      "Movie average is negative. Removing 1st percentile.\n",
      "In setting CNMFParams, non-pathed parameters were used; this is deprecated. In some future version of Caiman, allow_legacy will default to False (and eventually will be removed)\n"
     ]
    },
    {
     "name": "stdout",
     "output_type": "stream",
     "text": [
      "/mnt/md0/BRUKER/TSeries-12182024-1024-026\n"
     ]
    },
    {
     "name": "stderr",
     "output_type": "stream",
     "text": [
      "The local backend is an alias for the multiprocessing backend, and the alias may be removed in some future version of Caiman\n",
      "In setting CNMFParams, non-pathed parameters were used; this is deprecated. In some future version of Caiman, allow_legacy will default to False (and eventually will be removed)\n",
      "The local backend is an alias for the multiprocessing backend, and the alias may be removed in some future version of Caiman\n",
      "Movie average is negative. Removing 1st percentile.\n",
      "Movie average is negative. Removing 1st percentile.\n",
      "Movie average is negative. Removing 1st percentile.\n",
      "In setting CNMFParams, non-pathed parameters were used; this is deprecated. In some future version of Caiman, allow_legacy will default to False (and eventually will be removed)\n"
     ]
    },
    {
     "name": "stdout",
     "output_type": "stream",
     "text": [
      "/mnt/md0/BRUKER/TSeries-12182024-1024-027\n"
     ]
    },
    {
     "name": "stderr",
     "output_type": "stream",
     "text": [
      "The local backend is an alias for the multiprocessing backend, and the alias may be removed in some future version of Caiman\n",
      "In setting CNMFParams, non-pathed parameters were used; this is deprecated. In some future version of Caiman, allow_legacy will default to False (and eventually will be removed)\n",
      "The local backend is an alias for the multiprocessing backend, and the alias may be removed in some future version of Caiman\n",
      "Movie average is negative. Removing 1st percentile.\n",
      "Movie average is negative. Removing 1st percentile.\n",
      "Movie average is negative. Removing 1st percentile.\n",
      "In setting CNMFParams, non-pathed parameters were used; this is deprecated. In some future version of Caiman, allow_legacy will default to False (and eventually will be removed)\n"
     ]
    },
    {
     "name": "stdout",
     "output_type": "stream",
     "text": [
      "/mnt/md0/BRUKER/TSeries-12182024-1024-028\n"
     ]
    },
    {
     "name": "stderr",
     "output_type": "stream",
     "text": [
      "The local backend is an alias for the multiprocessing backend, and the alias may be removed in some future version of Caiman\n",
      "In setting CNMFParams, non-pathed parameters were used; this is deprecated. In some future version of Caiman, allow_legacy will default to False (and eventually will be removed)\n",
      "The local backend is an alias for the multiprocessing backend, and the alias may be removed in some future version of Caiman\n",
      "Movie average is negative. Removing 1st percentile.\n",
      "Movie average is negative. Removing 1st percentile.\n",
      "Movie average is negative. Removing 1st percentile.\n",
      "In setting CNMFParams, non-pathed parameters were used; this is deprecated. In some future version of Caiman, allow_legacy will default to False (and eventually will be removed)\n"
     ]
    },
    {
     "name": "stdout",
     "output_type": "stream",
     "text": [
      "/mnt/md0/BRUKER/TSeries-12182024-1024-029\n"
     ]
    },
    {
     "name": "stderr",
     "output_type": "stream",
     "text": [
      "The local backend is an alias for the multiprocessing backend, and the alias may be removed in some future version of Caiman\n",
      "In setting CNMFParams, non-pathed parameters were used; this is deprecated. In some future version of Caiman, allow_legacy will default to False (and eventually will be removed)\n",
      "The local backend is an alias for the multiprocessing backend, and the alias may be removed in some future version of Caiman\n",
      "Movie average is negative. Removing 1st percentile.\n",
      "Movie average is negative. Removing 1st percentile.\n",
      "Movie average is negative. Removing 1st percentile.\n",
      "In setting CNMFParams, non-pathed parameters were used; this is deprecated. In some future version of Caiman, allow_legacy will default to False (and eventually will be removed)\n"
     ]
    },
    {
     "name": "stdout",
     "output_type": "stream",
     "text": [
      "/mnt/md0/BRUKER/TSeries-12182024-1024-030\n"
     ]
    },
    {
     "name": "stderr",
     "output_type": "stream",
     "text": [
      "The local backend is an alias for the multiprocessing backend, and the alias may be removed in some future version of Caiman\n",
      "In setting CNMFParams, non-pathed parameters were used; this is deprecated. In some future version of Caiman, allow_legacy will default to False (and eventually will be removed)\n",
      "The local backend is an alias for the multiprocessing backend, and the alias may be removed in some future version of Caiman\n",
      "Movie average is negative. Removing 1st percentile.\n",
      "Movie average is negative. Removing 1st percentile.\n",
      "Movie average is negative. Removing 1st percentile.\n",
      "In setting CNMFParams, non-pathed parameters were used; this is deprecated. In some future version of Caiman, allow_legacy will default to False (and eventually will be removed)\n"
     ]
    },
    {
     "name": "stdout",
     "output_type": "stream",
     "text": [
      "/mnt/md0/BRUKER/TSeries-12182024-1024-031\n"
     ]
    },
    {
     "name": "stderr",
     "output_type": "stream",
     "text": [
      "The local backend is an alias for the multiprocessing backend, and the alias may be removed in some future version of Caiman\n",
      "In setting CNMFParams, non-pathed parameters were used; this is deprecated. In some future version of Caiman, allow_legacy will default to False (and eventually will be removed)\n",
      "The local backend is an alias for the multiprocessing backend, and the alias may be removed in some future version of Caiman\n",
      "Movie average is negative. Removing 1st percentile.\n",
      "Movie average is negative. Removing 1st percentile.\n",
      "Movie average is negative. Removing 1st percentile.\n"
     ]
    }
   ],
   "source": [
    "for acq in sessions_to_run:\n",
    "    stacks_to_hdf5(acq,delete_tiffs=True)\n",
    "register_bulk(sessions_to_run=sessions_to_run, sparse= True)"
   ]
  },
  {
   "cell_type": "code",
   "execution_count": null,
   "id": "d6ab9e96-829a-4874-a5ef-a1c4c55f4f9a",
   "metadata": {},
   "outputs": [],
   "source": []
  }
 ],
 "metadata": {
  "kernelspec": {
   "display_name": "Python 3 (ipykernel)",
   "language": "python",
   "name": "python3"
  },
  "language_info": {
   "codemirror_mode": {
    "name": "ipython",
    "version": 3
   },
   "file_extension": ".py",
   "mimetype": "text/x-python",
   "name": "python",
   "nbconvert_exporter": "python",
   "pygments_lexer": "ipython3",
   "version": "3.8.20"
  }
 },
 "nbformat": 4,
 "nbformat_minor": 5
}
