{
 "cells": [
  {
   "cell_type": "code",
   "execution_count": 2,
   "id": "ecd48257-62a5-4f5b-9d4d-5fe58ac566fb",
   "metadata": {},
   "outputs": [],
   "source": [
    "# For when not running as a job\n",
    "#if ('sessions_to_run' not in vars()) or ('loss_fun' not in vars()):\n",
    "#    loss_fun = \"mean_squared_error\"\n",
    "#    sessions_to_run = ['/mnt/md0/BRUKER/TSeries-11032024-1313-003']\n",
    "sessions_to_run = ['/mnt/md0/BRUKER/TSeries-11032024-1313-003']"
   ]
  },
  {
   "cell_type": "code",
   "execution_count": 3,
   "id": "4d1c45ee-cdeb-4986-bcb2-603df4a99736",
   "metadata": {},
   "outputs": [
    {
     "name": "stderr",
     "output_type": "stream",
     "text": [
      "2024-12-05 11:39:43.256512: I tensorflow/stream_executor/platform/default/dso_loader.cc:49] Successfully opened dynamic library libcudart.so.11.0\n"
     ]
    }
   ],
   "source": [
    "import os\n",
    "import sys\n",
    "import glob\n",
    "import h5py\n",
    "import pathlib\n",
    "import code\n",
    "from datetime import datetime\n",
    "\n",
    "sys.path.append('/home/schollab-beyonce/Documents/deepinterpolation-0.1.4')\n",
    "\n",
    "# CLI is deprecating in 0.2.0\n",
    "from deepinterpolation.cli.fine_tuning import FineTuning"
   ]
  },
  {
   "cell_type": "code",
   "execution_count": null,
   "id": "aa6f34f2-adc0-4de9-aafa-96ffeacc212a",
   "metadata": {},
   "outputs": [
    {
     "name": "stderr",
     "output_type": "stream",
     "text": [
      "Python 3.8.20 (default, Oct  3 2024, 15:24:27) \n",
      "[GCC 11.2.0] on linux\n",
      "Type \"help\", \"copyright\", \"credits\" or \"license\" for more information.\n",
      "(InteractiveConsole)\n"
     ]
    },
    {
     "name": "stdin",
     "output_type": "stream",
     "text": [
      "In :  finetuning_obj.run()\n"
     ]
    },
    {
     "name": "stderr",
     "output_type": "stream",
     "text": [
      "INFO:FineTuning:wrote /mnt/md0/BRUKER/TSeries-11032024-1313-003/2024_12_05_11_39_training_full_args.json\n",
      "INFO:FineTuning:wrote /mnt/md0/BRUKER/TSeries-11032024-1313-003/2024_12_05_11_39_finetuning.json\n",
      "INFO:FineTuning:wrote /mnt/md0/BRUKER/TSeries-11032024-1313-003/2024_12_05_11_39_generator.json\n",
      "INFO:FineTuning:wrote /mnt/md0/BRUKER/TSeries-11032024-1313-003/2024_12_05_11_39_test_generator.json\n",
      "2024-12-05 11:40:03.534508: I tensorflow/compiler/jit/xla_cpu_device.cc:41] Not creating XLA devices, tf_xla_enable_xla_devices not set\n",
      "2024-12-05 11:40:03.535464: I tensorflow/stream_executor/platform/default/dso_loader.cc:49] Successfully opened dynamic library libcuda.so.1\n",
      "2024-12-05 11:40:03.694553: I tensorflow/stream_executor/cuda/cuda_gpu_executor.cc:941] successful NUMA node read from SysFS had negative value (-1), but there must be at least one NUMA node, so returning NUMA node zero\n",
      "2024-12-05 11:40:03.701473: I tensorflow/core/common_runtime/gpu/gpu_device.cc:1720] Found device 0 with properties: \n",
      "pciBusID: 0000:41:00.0 name: NVIDIA GeForce RTX 3090 computeCapability: 8.6\n",
      "coreClock: 1.71GHz coreCount: 82 deviceMemorySize: 23.58GiB deviceMemoryBandwidth: 871.81GiB/s\n",
      "2024-12-05 11:40:03.701488: I tensorflow/stream_executor/platform/default/dso_loader.cc:49] Successfully opened dynamic library libcudart.so.11.0\n",
      "2024-12-05 11:40:03.734377: I tensorflow/stream_executor/platform/default/dso_loader.cc:49] Successfully opened dynamic library libcublas.so.11\n",
      "2024-12-05 11:40:03.734419: I tensorflow/stream_executor/platform/default/dso_loader.cc:49] Successfully opened dynamic library libcublasLt.so.11\n",
      "2024-12-05 11:40:03.737603: I tensorflow/stream_executor/platform/default/dso_loader.cc:49] Successfully opened dynamic library libcufft.so.10\n",
      "2024-12-05 11:40:03.738973: I tensorflow/stream_executor/platform/default/dso_loader.cc:49] Successfully opened dynamic library libcurand.so.10\n",
      "2024-12-05 11:40:03.745943: I tensorflow/stream_executor/platform/default/dso_loader.cc:49] Successfully opened dynamic library libcusolver.so.10\n",
      "2024-12-05 11:40:03.747163: I tensorflow/stream_executor/platform/default/dso_loader.cc:49] Successfully opened dynamic library libcusparse.so.11\n",
      "2024-12-05 11:40:03.747271: I tensorflow/stream_executor/platform/default/dso_loader.cc:49] Successfully opened dynamic library libcudnn.so.8\n",
      "2024-12-05 11:40:03.747411: I tensorflow/stream_executor/cuda/cuda_gpu_executor.cc:941] successful NUMA node read from SysFS had negative value (-1), but there must be at least one NUMA node, so returning NUMA node zero\n",
      "2024-12-05 11:40:03.752371: I tensorflow/stream_executor/cuda/cuda_gpu_executor.cc:941] successful NUMA node read from SysFS had negative value (-1), but there must be at least one NUMA node, so returning NUMA node zero\n",
      "2024-12-05 11:40:03.755293: I tensorflow/core/common_runtime/gpu/gpu_device.cc:1862] Adding visible gpu devices: 0\n",
      "2024-12-05 11:40:03.755618: I tensorflow/core/platform/cpu_feature_guard.cc:142] This TensorFlow binary is optimized with oneAPI Deep Neural Network Library (oneDNN) to use the following CPU instructions in performance-critical operations:  AVX2 FMA\n",
      "To enable them in other operations, rebuild TensorFlow with the appropriate compiler flags.\n",
      "2024-12-05 11:40:03.757336: I tensorflow/compiler/jit/xla_gpu_device.cc:99] Not creating XLA devices, tf_xla_enable_xla_devices not set\n",
      "2024-12-05 11:40:03.757429: I tensorflow/stream_executor/cuda/cuda_gpu_executor.cc:941] successful NUMA node read from SysFS had negative value (-1), but there must be at least one NUMA node, so returning NUMA node zero\n",
      "2024-12-05 11:40:03.767648: I tensorflow/core/common_runtime/gpu/gpu_device.cc:1720] Found device 0 with properties: \n",
      "pciBusID: 0000:41:00.0 name: NVIDIA GeForce RTX 3090 computeCapability: 8.6\n",
      "coreClock: 1.71GHz coreCount: 82 deviceMemorySize: 23.58GiB deviceMemoryBandwidth: 871.81GiB/s\n",
      "2024-12-05 11:40:03.767663: I tensorflow/stream_executor/platform/default/dso_loader.cc:49] Successfully opened dynamic library libcudart.so.11.0\n",
      "2024-12-05 11:40:03.767675: I tensorflow/stream_executor/platform/default/dso_loader.cc:49] Successfully opened dynamic library libcublas.so.11\n",
      "2024-12-05 11:40:03.767683: I tensorflow/stream_executor/platform/default/dso_loader.cc:49] Successfully opened dynamic library libcublasLt.so.11\n",
      "2024-12-05 11:40:03.767690: I tensorflow/stream_executor/platform/default/dso_loader.cc:49] Successfully opened dynamic library libcufft.so.10\n",
      "2024-12-05 11:40:03.767697: I tensorflow/stream_executor/platform/default/dso_loader.cc:49] Successfully opened dynamic library libcurand.so.10\n",
      "2024-12-05 11:40:03.767704: I tensorflow/stream_executor/platform/default/dso_loader.cc:49] Successfully opened dynamic library libcusolver.so.10\n",
      "2024-12-05 11:40:03.767713: I tensorflow/stream_executor/platform/default/dso_loader.cc:49] Successfully opened dynamic library libcusparse.so.11\n",
      "2024-12-05 11:40:03.767720: I tensorflow/stream_executor/platform/default/dso_loader.cc:49] Successfully opened dynamic library libcudnn.so.8\n",
      "2024-12-05 11:40:03.767769: I tensorflow/stream_executor/cuda/cuda_gpu_executor.cc:941] successful NUMA node read from SysFS had negative value (-1), but there must be at least one NUMA node, so returning NUMA node zero\n",
      "2024-12-05 11:40:03.772481: I tensorflow/stream_executor/cuda/cuda_gpu_executor.cc:941] successful NUMA node read from SysFS had negative value (-1), but there must be at least one NUMA node, so returning NUMA node zero\n",
      "2024-12-05 11:40:03.776290: I tensorflow/core/common_runtime/gpu/gpu_device.cc:1862] Adding visible gpu devices: 0\n",
      "2024-12-05 11:40:03.776311: I tensorflow/stream_executor/platform/default/dso_loader.cc:49] Successfully opened dynamic library libcudart.so.11.0\n",
      "2024-12-05 11:40:04.279676: I tensorflow/core/common_runtime/gpu/gpu_device.cc:1261] Device interconnect StreamExecutor with strength 1 edge matrix:\n",
      "2024-12-05 11:40:04.280596: I tensorflow/core/common_runtime/gpu/gpu_device.cc:1267]      0 \n",
      "2024-12-05 11:40:04.280602: I tensorflow/core/common_runtime/gpu/gpu_device.cc:1280] 0:   N \n",
      "2024-12-05 11:40:04.280800: I tensorflow/stream_executor/cuda/cuda_gpu_executor.cc:941] successful NUMA node read from SysFS had negative value (-1), but there must be at least one NUMA node, so returning NUMA node zero\n",
      "2024-12-05 11:40:04.284604: I tensorflow/stream_executor/cuda/cuda_gpu_executor.cc:941] successful NUMA node read from SysFS had negative value (-1), but there must be at least one NUMA node, so returning NUMA node zero\n",
      "2024-12-05 11:40:04.287737: I tensorflow/stream_executor/cuda/cuda_gpu_executor.cc:941] successful NUMA node read from SysFS had negative value (-1), but there must be at least one NUMA node, so returning NUMA node zero\n",
      "2024-12-05 11:40:04.288885: I tensorflow/core/common_runtime/gpu/gpu_device.cc:1406] Created TensorFlow device (/job:localhost/replica:0/task:0/device:GPU:0 with 22136 MB memory) -> physical GPU (device: 0, name: NVIDIA GeForce RTX 3090, pci bus id: 0000:41:00.0, compute capability: 8.6)\n"
     ]
    },
    {
     "name": "stdout",
     "output_type": "stream",
     "text": [
      "WARNING:tensorflow:`period` argument is deprecated. Please use `save_freq` to specify the frequency in number of batches seen.\n"
     ]
    },
    {
     "name": "stderr",
     "output_type": "stream",
     "text": [
      "WARNING:tensorflow:`period` argument is deprecated. Please use `save_freq` to specify the frequency in number of batches seen.\n",
      "2024-12-05 11:40:29.822346: I tensorflow/compiler/mlir/mlir_graph_optimization_pass.cc:116] None of the MLIR optimization passes are enabled (registered 2)\n",
      "2024-12-05 11:40:29.824299: I tensorflow/core/platform/profile_utils/cpu_utils.cc:112] CPU Frequency: 3992445000 Hz\n",
      "2024-12-05 11:40:37.616795: I tensorflow/stream_executor/platform/default/dso_loader.cc:49] Successfully opened dynamic library libcudnn.so.8\n",
      "2024-12-05 11:40:38.160999: I tensorflow/stream_executor/platform/default/dso_loader.cc:49] Successfully opened dynamic library libcublas.so.11\n",
      "2024-12-05 11:40:38.161239: I tensorflow/stream_executor/platform/default/dso_loader.cc:49] Successfully opened dynamic library libcublasLt.so.11\n"
     ]
    },
    {
     "name": "stdout",
     "output_type": "stream",
     "text": [
      " 5/50 [==>...........................] - ETA: 22:22 - loss: 0.6758"
     ]
    }
   ],
   "source": [
    "loss_fun = \"mean_squared_error\"\n",
    "\n",
    "time_deltas = []\n",
    "for i in range(0, len(sessions_to_run)):\n",
    "    parent_dir = sessions_to_run[i]\n",
    "    finetuning_params = {}\n",
    "    generator_param = {}\n",
    "    generator_test_param = {}\n",
    "    \n",
    "    # Grab some info from datafile\n",
    "    data_file_maybe = glob.glob(parent_dir + \"//registered.h5\")\n",
    "    assert len(data_file_maybe) == 1, \"Either HDF5 file for registered data was not found, or more than one was found. Check parent directory.\"\n",
    "    data_file = data_file_maybe[0]\n",
    "    \n",
    "    \n",
    "    f = h5py.File(data_file, \"a\")\n",
    "    rename = False\n",
    "    try:\n",
    "        total_frames = f['mov'].shape[0]\n",
    "        rename = True\n",
    "    except:\n",
    "        total_frames = f['data'].shape[0]\n",
    "    \n",
    "    if total_frames < 20000:\n",
    "        num_training_samples = total_frames\n",
    "    else:\n",
    "        num_training_samples = 20000\n",
    "    \n",
    "    if rename:\n",
    "        f[\"data\"] = f[\"mov\"]\n",
    "        del f[\"mov\"]\n",
    "    f.close()\n",
    "\n",
    "    # Parameters used for the validation step each epoch\n",
    "    generator_test_param[\"name\"] = \"OphysGenerator\"\n",
    "    generator_test_param[\"pre_frame\"] = 30\n",
    "    generator_test_param[\"post_frame\"] = 30\n",
    "    generator_test_param[\"data_path\"] = data_file\n",
    "    generator_test_param[\"batch_size\"] = 10\n",
    "    generator_test_param[\"start_frame\"] = 1\n",
    "    generator_test_param[\"end_frame\"] = 20000\n",
    "    generator_test_param[\"total_samples\"] = 500\n",
    "    generator_test_param[\"randomize\"] = 1\n",
    "    generator_test_param[\"pre_post_omission\"] = 0 \n",
    "\n",
    "    #Parameters used for the main data generator\n",
    "    generator_param[\"name\"] = \"OphysGenerator\"\n",
    "    generator_param[\"pre_frame\"] = 30\n",
    "    generator_param[\"post_frame\"] = 30\n",
    "    generator_param[\"data_path\"] = data_file\n",
    "    generator_param[\"batch_size\"] = 10\n",
    "    generator_param[\"start_frame\"] = 1\n",
    "    generator_param[\"end_frame\"] = 20000\n",
    "    generator_param[\"total_samples\"] = num_training_samples\n",
    "    generator_param[\"randomize\"] = 1\n",
    "    generator_param[\"pre_post_omission\"] = 0\n",
    "\n",
    "    # Parameters used for the training process\n",
    "    finetuning_params[\"name\"] = \"transfer_trainer\"\n",
    "\n",
    "    # Change this path to any model you wish to improve\n",
    "    filename = \"2019_09_11_23_32_unet_single_1024_mean_absolute_error_Ai93-0450.h5\"\n",
    "    local_path = \\\n",
    "        os.path.join(\n",
    "            #\"C:\\\\Users\\\\greg\\\\Documents\\\\Python\\\\deepinterpolation-0.1.5\\\\sample_data\",\n",
    "            '/home/schollab-beyonce/Documents',\n",
    "            filename\n",
    "        )\n",
    "    finetuning_params[\"model_source\"] = {\n",
    "        \"local_path\": local_path\n",
    "    }\n",
    "\n",
    "    steps_per_epoch = 200\n",
    "    finetuning_params[\"steps_per_epoch\"] = steps_per_epoch\n",
    "    finetuning_params[\n",
    "        \"period_save\"\n",
    "    ] = 5\n",
    "\n",
    "    finetuning_params[\"learning_rate\"] = 0.0001\n",
    "    finetuning_params[\"loss\"] = loss_fun\n",
    "    finetuning_params[\"output_dir\"] = parent_dir\n",
    "    finetuning_params[\"apply_learning_decay\"] = False\n",
    "    finetuning_params[\"caching_validation\"] = False\n",
    "    # Not working for some reason\n",
    "    #finetuning_params[\"use_multiprocessing\"] = False\n",
    "    #finetuning_params[\"nb_workers\"] = 10\n",
    "\n",
    "    args = {\n",
    "        \"finetuning_params\": finetuning_params,\n",
    "        \"generator_params\": generator_param,\n",
    "        \"test_generator_params\": generator_test_param,\n",
    "        \"output_full_args\": True\n",
    "    }\n",
    "\n",
    "    t_start = datetime.now()\n",
    "    finetuning_obj = FineTuning(input_data=args, args=[])\n",
    "    code.interact(local=dict(globals(), **locals())) \n",
    "    finetuning_obj.run()\n",
    "    t_stop = datetime.now()\n",
    "    time_deltas.append(t_stop - t_start)\n",
    "    print(str(t_stop - t_start))"
   ]
  },
  {
   "cell_type": "code",
   "execution_count": 7,
   "id": "d7fdf2e8-233a-4a95-bf9d-8ccaffd503d2",
   "metadata": {},
   "outputs": [
    {
     "data": {
      "text/plain": [
       "'/home/schollab/Documents/SCANIMAGE/test_data_short'"
      ]
     },
     "execution_count": 7,
     "metadata": {},
     "output_type": "execute_result"
    }
   ],
   "source": [
    "parent_dir"
   ]
  },
  {
   "cell_type": "code",
   "execution_count": null,
   "id": "3fb23e0a-3be7-44ab-9003-fe3891e2e28b",
   "metadata": {},
   "outputs": [],
   "source": []
  }
 ],
 "metadata": {
  "kernelspec": {
   "display_name": "Python 3 (ipykernel)",
   "language": "python",
   "name": "python3"
  },
  "language_info": {
   "codemirror_mode": {
    "name": "ipython",
    "version": 3
   },
   "file_extension": ".py",
   "mimetype": "text/x-python",
   "name": "python",
   "nbconvert_exporter": "python",
   "pygments_lexer": "ipython3",
   "version": "3.8.20"
  }
 },
 "nbformat": 4,
 "nbformat_minor": 5
}
